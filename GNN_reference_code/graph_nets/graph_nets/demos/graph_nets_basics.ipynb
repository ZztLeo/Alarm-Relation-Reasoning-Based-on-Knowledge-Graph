{
  "cells": [
    {
      "cell_type": "code",
      "execution_count": 1,
      "metadata": {
        "cellView": "form",
        "colab": {},
        "colab_type": "code",
        "id": "zh8WOre17mel",
        "pycharm": {
          "is_executing": false
        }
      },
      "outputs": [],
      "source": [
        "#@title ##### License\n",
        "# Copyright 2018 The GraphNets Authors. All Rights Reserved.\n",
        "#\n",
        "# Licensed under the Apache License, Version 2.0 (the \"License\");\n",
        "# you may not use this file except in compliance with the License.\n",
        "# You may obtain a copy of the License at\n",
        "#\n",
        "#    http://www.apache.org/licenses/LICENSE-2.0\n",
        "#\n",
        "# Unless required by applicable law or agreed to in writing, software\n",
        "# distributed under the License is distributed on an \"AS IS\" BASIS,\n",
        "# WITHOUT WARRANTIES OR CONDITIONS OF ANY KIND, either express or  implied.\n",
        "# See the License for the specific language governing permissions and\n",
        "# limitations under the License.\n",
        "# \u003d\u003d\u003d\u003d\u003d\u003d\u003d\u003d\u003d\u003d\u003d\u003d\u003d\u003d\u003d\u003d\u003d\u003d\u003d\u003d\u003d\u003d\u003d\u003d\u003d\u003d\u003d\u003d\u003d\u003d\u003d\u003d\u003d\u003d\u003d\u003d\u003d\u003d\u003d\u003d\u003d\u003d\u003d\u003d\u003d\u003d\u003d\u003d\u003d\u003d\u003d\u003d\u003d\u003d\u003d\u003d\u003d\u003d\u003d\u003d\u003d\u003d\u003d\u003d\u003d\u003d\u003d\u003d\u003d\u003d\u003d\u003d\u003d\u003d\u003d\u003d"
      ]
    },
    {
      "cell_type": "markdown",
      "metadata": {
        "colab_type": "text",
        "id": "rPPRpGpz1Hce",
        "pycharm": {}
      },
      "source": [
        "![](https://github.com/deepmind/graph_nets/raw/master/images/graph-nets-deepmind-shortest-path.gif)\n",
        "\n",
        "# Tutorial of the Graph Nets library\n",
        "\n",
        "The purpose of this tutorial is to get practical experience using the Graph Nets library via examples of:\n",
        "1. Building graph data structures `graph_nets.graphs.GraphsTuple` using `graph_nets.utils_np` .\n",
        "2. Operating with graph data structures in the tensorflow graph using `graph_nets.utils_tf` .\n",
        "3. Feeding graphs to Graph Nets tensorflow modules in `graph_nets.modules` .\n",
        "4. Building custom Graph Nets modules using the graph net building blocks provided in `graph_nets.blocks` .\n",
        "\n",
        "For more information about graph networks, see our arXiv paper: [Relational inductive biases, deep learning, and graph networks](https://arxiv.org/abs/1806.01261)."
      ]
    },
    {
      "cell_type": "code",
      "execution_count": 2,
      "metadata": {
        "cellView": "form",
        "colab": {},
        "colab_type": "code",
        "id": "bq24M0Ig7r8N",
        "pycharm": {
          "is_executing": false
        }
      },
      "outputs": [
        {
          "name": "stdout",
          "text": [
            "Skipping installation of Graph Nets library\n"
          ],
          "output_type": "stream"
        }
      ],
      "source": [
        "#@title ### Install the Graph Nets library on this Colaboratory runtime  { form-width: \"60%\", run: \"auto\"}\n",
        "#@markdown \u003cbr\u003e1. Connect to a local or hosted Colaboratory runtime by clicking the **Connect** button at the top-right.\u003cbr\u003e2. Choose \"Yes\" below to install the Graph Nets library on the runtime machine with:\u003cbr\u003e \u0026nbsp;\u0026nbsp;\u0026nbsp;\u0026nbsp;\u0026nbsp;\u0026nbsp;\u0026nbsp;\u0026nbsp;```pip install graph_nets```\u003cbr\u003e Note, this works both with local and hosted Colaboratory runtimes.\n",
        "\n",
        "install_graph_nets_library \u003d \"No\"  #@param [\"Yes\", \"No\"]\n",
        "\n",
        "if install_graph_nets_library.lower() \u003d\u003d \"yes\":\n",
        "  print(\"Installing Graph Nets library with:\")\n",
        "  print(\"  $ pip install graph_nets\\n\")\n",
        "  print(\"Output message from command:\\n\")\n",
        "  !pip install graph_nets\n",
        "else:\n",
        "  print(\"Skipping installation of Graph Nets library\")"
      ]
    },
    {
      "cell_type": "code",
      "execution_count": 2,
      "metadata": {
        "pycharm": {
          "is_executing": false
        }
      },
      "outputs": [],
      "source": []
    },
    {
      "cell_type": "code",
      "execution_count": 4,
      "metadata": {
        "cellView": "form",
        "colab": {},
        "colab_type": "code",
        "id": "ww1nT7Ddydrk",
        "pycharm": {}
      },
      "outputs": [
        {
          "ename": "ModuleNotFoundError",
          "evalue": "No module named \u0027graph_nets\u0027",
          "output_type": "error",
          "traceback": [
            "\u001b[1;31m---------------------------------------------------------------------------\u001b[0m",
            "\u001b[1;31mModuleNotFoundError\u001b[0m                       Traceback (most recent call last)",
            "\u001b[1;32m\u003cipython-input-4-badcc06be947\u003e\u001b[0m in \u001b[0;36m\u003cmodule\u003e\u001b[1;34m\u001b[0m\n\u001b[0;32m      5\u001b[0m \u001b[1;32mfrom\u001b[0m \u001b[0m__future__\u001b[0m \u001b[1;32mimport\u001b[0m \u001b[0mprint_function\u001b[0m\u001b[1;33m\u001b[0m\u001b[1;33m\u001b[0m\u001b[0m\n\u001b[0;32m      6\u001b[0m \u001b[1;33m\u001b[0m\u001b[0m\n\u001b[1;32m----\u003e 7\u001b[1;33m \u001b[1;32mfrom\u001b[0m \u001b[0mgraph_nets\u001b[0m \u001b[1;32mimport\u001b[0m \u001b[0mblocks\u001b[0m\u001b[1;33m\u001b[0m\u001b[1;33m\u001b[0m\u001b[0m\n\u001b[0m\u001b[0;32m      8\u001b[0m \u001b[1;32mfrom\u001b[0m \u001b[0mgraph_nets\u001b[0m \u001b[1;32mimport\u001b[0m \u001b[0mgraphs\u001b[0m\u001b[1;33m\u001b[0m\u001b[1;33m\u001b[0m\u001b[0m\n\u001b[0;32m      9\u001b[0m \u001b[1;32mfrom\u001b[0m \u001b[0mgraph_nets\u001b[0m \u001b[1;32mimport\u001b[0m \u001b[0mmodules\u001b[0m\u001b[1;33m\u001b[0m\u001b[1;33m\u001b[0m\u001b[0m\n",
            "\u001b[1;31mModuleNotFoundError\u001b[0m: No module named \u0027graph_nets\u0027"
          ]
        }
      ],
      "source": [
        "#@title #### (Imports)\n",
        "\n",
        "from __future__ import absolute_import\n",
        "from __future__ import division\n",
        "from __future__ import print_function\n",
        "\n",
        "from graph_nets import blocks\n",
        "from graph_nets import graphs\n",
        "from graph_nets import modules\n",
        "from graph_nets import utils_np\n",
        "from graph_nets import utils_tf\n",
        "\n",
        "import matplotlib.pyplot as plt\n",
        "import networkx as nx\n",
        "import numpy as np\n",
        "import sonnet as snt\n",
        "import tensorflow as tf"
      ]
    },
    {
      "cell_type": "markdown",
      "metadata": {
        "colab_type": "toc",
        "id": "PbT9ciFt4vGk",
        "pycharm": {}
      },
      "source": [
        "\u003e[Tutorial of the Graph Nets library](#scrollTo\u003drPPRpGpz1Hce)\n",
        "\n",
        "\u003e[A Graph Net module](#scrollTo\u003djS0bIZykbaw4)\n",
        "\n",
        "\u003e\u003e[The graphs.GraphsTuple class](#scrollTo\u003dTc355RxEak3h)\n",
        "\n",
        "\u003e[Creating graphs](#scrollTo\u003dRg3HRdEAyYi0)\n",
        "\n",
        "\u003e\u003e[What\u0027s contained in a graph?](#scrollTo\u003dVC023vAp0pAp)\n",
        "\n",
        "\u003e\u003e[How to represent graphs as a graphs.GraphsTuple](#scrollTo\u003d8sOteecpHj0Z)\n",
        "\n",
        "\u003e\u003e\u003e[Visualize the graphs using networkx](#scrollTo\u003dsaTlW6FUsQou)\n",
        "\n",
        "\u003e\u003e\u003e[Print the GraphsTuple fields](#scrollTo\u003do-HixEQ7sU6q)\n",
        "\n",
        "\u003e\u003e[Different ways of expressing data as a graph](#scrollTo\u003dJtUYYeERq2x2)\n",
        "\n",
        "\u003e\u003e\u003e[Graph with no features](#scrollTo\u003dnz7RDJL1r8Mh)\n",
        "\n",
        "\u003e\u003e\u003e[Set (ie. graph without edges)](#scrollTo\u003defQtkXoFr5su)\n",
        "\n",
        "\u003e\u003e\u003e[Creating a GraphsTuple from a networkx graph](#scrollTo\u003doPrZFvcRr1yU)\n",
        "\n",
        "\u003e\u003e[Working with tensor GraphsTuple\u0027s](#scrollTo\u003dcSUY6pbYXE1i)\n",
        "\n",
        "\u003e\u003e[Creating a constant tensor GraphsTuple from data dicts](#scrollTo\u003d_kygzbsSXsHJ)\n",
        "\n",
        "\u003e\u003e[GraphsTuple placeholders](#scrollTo\u003dlQVz4xCbXr_J)\n",
        "\n",
        "\u003e\u003e[Slicing graphs from within a batch](#scrollTo\u003dacSavUGPXsZI)\n",
        "\n",
        "\u003e\u003e[Concatenating GraphsTuples](#scrollTo\u003dMLD2KEdEYldQ)\n",
        "\n",
        "\u003e[Graph Net modules](#scrollTo\u003dVUzXQDdRaIKt)\n",
        "\n",
        "\u003e\u003e[Creating a modules.GraphNetwork](#scrollTo\u003d0rOU3rjRbK9O)\n",
        "\n",
        "\u003e\u003e[Feeding a GraphsTuple to a Graph Net](#scrollTo\u003dVsSIrvMEbV1W)\n",
        "\n",
        "\u003e\u003e[Connecting a GraphNetwork recurrently](#scrollTo\u003dHGK5xGBob3lb)\n",
        "\n",
        "\u003e[Graph Net building blocks](#scrollTo\u003dqfhlV2qpah5O)\n",
        "\n",
        "\u003e\u003e[Broadcast operations](#scrollTo\u003dTa0YenqKaq7E)\n",
        "\n",
        "\u003e\u003e[Aggregators](#scrollTo\u003duE8bBiLbaoCX)\n",
        "\n",
        "\u003e\u003e[blocks.EdgeBlock](#scrollTo\u003dlE0e3bMna96z)\n",
        "\n",
        "\u003e\u003e[blocks.NodeBlock](#scrollTo\u003dFsqdEWjLa0kF)\n",
        "\n",
        "\u003e\u003e[blocks.GlobalBlock](#scrollTo\u003dJlNdE_rbbBOj)\n",
        "\n",
        "\u003e\u003e[Block compositionality](#scrollTo\u003dZC_Y6dEZqNCx)\n",
        "\n",
        "\u003e[Various canonical Graph Net modules](#scrollTo\u003dn4gULrAFbnwE)\n",
        "\n",
        "\u003e\u003e[Independent Graph Net (modules.GraphIndependent)](#scrollTo\u003dbHhltBuVv5hR)\n",
        "\n",
        "\u003e\u003e[Message-passing neural networks (modules.InteractionNetwork, modules.CommNet)](#scrollTo\u003dbJX9iMMIt8T9)\n",
        "\n",
        "\u003e\u003e[Non-local neural networks (modules.SelfAttention)](#scrollTo\u003dXMCMOdkNvJ58)\n",
        "\n",
        "\u003e\u003e[Relation network (modules.RelationNetwork)](#scrollTo\u003dbJAx7bZ5vM-e)\n",
        "\n",
        "\u003e\u003e[Deep Sets (modules.DeepSets)](#scrollTo\u003dncp-swtyvQ0C)\n",
        "\n"
      ]
    },
    {
      "cell_type": "markdown",
      "metadata": {
        "colab_type": "text",
        "id": "Tc355RxEak3h",
        "pycharm": {}
      },
      "source": [
        "## The [`graphs.GraphsTuple`](https://github.com/deepmind/graph_nets/blob/master/docs/graph_nets.md#class-graphsgraphstuple) class\n",
        "\n",
        "The Graph Nets library contains models which operate on graph-structured data, so the first thing to understand is how graph-structured data is represented in the code. \n",
        "\n",
        "The `graph_nets.graphs.GraphsTuple` class, defined in [`graph_nets/graphs.py`](https://github.com/deepmind/graph_nets/blob/master/graph_nets/graphs.py), represents a **batches of one or more graphs**. All graph network modules take instances of `GraphsTuple` as input, and return instances of `GraphsTuple` as output. The graphs are *directed* (one-way edges), *attributed* (node-, edge-, and graph-level features are allowed), *multigraphs* (multiple edges can connect any two nodes, and self-edges are allowed). See Box 3, page 11 in [our companion arXiv paper](https://arxiv.org/pdf/1806.01261.pdf) for details.\n",
        "\n",
        "A `GraphsTuple` has attributes:\n",
        "- `n_node` (shape\u003d[num_graphs]): Number of nodes in each graph in the batch.\n",
        "- `n_edge` (shape\u003d[num_graphs]): Number of edges in each graph in the batch.\n",
        "- `globals` (shape\u003d[num_graphs] + global_feature_dimensions): Global features for each graph in the batch.\n",
        "- `nodes` (shape\u003d[total_num_nodes] + node_feature_dimensions): Node features for each node in the batch of graphs.\n",
        "- `edges` (shape\u003d[total_num_edges] + edge_feature_dimensions): Edge features for each edge in the batch of graphs.\n",
        "- `senders`(shape\u003d[total_num_edges]): Indices of the nodes in `nodes`, which indicate the source node of each directed edge in `edges`.\n",
        "- `receivers` (shape\u003d[total_num_edges]): Indices of the nodes in `nodes`, which indicate the destination node of each directed edge in `edges`.\n",
        "\n",
        "The nodes and edges from the different graphs in the batch are concatenated along the first axis of the `nodes` and `edges` fields, and can be partitioned using the `n_node` and `n_edge` fields respectively.  Note, all but the \"`n_*`\" fields are optional (see examples below).\n",
        "\n",
        "The attributes of a `GraphsTuple` instance are typically either Numpy arrays or TensorFlow tensors. The library contains utilities for manipulating graphs with each of these types of attributes, respectively:\n",
        "  * `utils_np` (for Numpy arrays)\n",
        "  * `utils_tf` (for TensorFlow tensors)\n",
        "\n",
        "An important method of the `GraphsTuple` class is [`GraphsTuple.replace`](https://github.com/deepmind/graph_nets/blob/master/docs/graph_nets.md#graphsgraphstuplereplacekwargs): Similarly to `collections.namedtuple._replace` (in fact, `GraphsTuple` is sub-class of `collections.namedtuple`), this method creates a copy of the `GraphsTuple`, with references to all of the original attributes, by replacing some of them by the values provided as keyword arguments."
      ]
    },
    {
      "cell_type": "markdown",
      "metadata": {
        "colab_type": "text",
        "id": "Rg3HRdEAyYi0",
        "pycharm": {}
      },
      "source": [
        "# Creating graphs"
      ]
    },
    {
      "cell_type": "markdown",
      "metadata": {
        "colab_type": "text",
        "id": "VC023vAp0pAp",
        "pycharm": {}
      },
      "source": [
        "## What\u0027s contained in a graph?\n",
        "\n",
        "Each graph will have a global feature, several nodes, and several edges. The graphs can have different numbers of nodes and edges, but the lengths of the global, node, and edge attribute vectors must be the same across graphs.\n",
        "In order to create a `graphs.GraphsTuple` instance, we can define a `list` whose elements are `dict`s, with the following keys, that contain each graph\u0027s data:\n",
        "- \"globals\": Each graph has a single `float`-valued feature vector.\n",
        "- \"nodes\": Each graph has a set of nodes with `float`-valued feature vectors.\n",
        "- \"edges\": Each graph has a set of edges with `float`-valued feature vectors.\n",
        "- \"senders\": Each edge connects a sender node, represented by an `int`-valued node index, to a receiver node.\n",
        "- \"receivers\": Each edge connects a sender node to a receiver node, represented by an `int`-valued node index.\n",
        "\n",
        "Try running the cell below to create some dummy graph data."
      ]
    },
    {
      "cell_type": "code",
      "execution_count": 2,
      "metadata": {
        "cellView": "both",
        "colab": {},
        "colab_type": "code",
        "id": "jW6MIo92HgOR",
        "pycharm": {}
      },
      "outputs": [],
      "source": [
        "# Global features for graph 0.\n",
        "globals_0 \u003d [1., 2., 3.]\n",
        "\n",
        "# Node features for graph 0.\n",
        "nodes_0 \u003d [[10., 20., 30.],  # Node 0\n",
        "           [11., 21., 31.],  # Node 1\n",
        "           [12., 22., 32.],  # Node 2\n",
        "           [13., 23., 33.],  # Node 3\n",
        "           [14., 24., 34.]]  # Node 4\n",
        "\n",
        "# Edge features for graph 0.\n",
        "edges_0 \u003d [[100., 200.],  # Edge 0\n",
        "           [101., 201.],  # Edge 1\n",
        "           [102., 202.],  # Edge 2\n",
        "           [103., 203.],  # Edge 3\n",
        "           [104., 204.],  # Edge 4\n",
        "           [105., 205.]]  # Edge 5\n",
        "\n",
        "# The sender and receiver nodes associated with each edge for graph 0.\n",
        "senders_0 \u003d [0,  # Index of the sender node for edge 0\n",
        "             1,  # Index of the sender node for edge 1\n",
        "             1,  # Index of the sender node for edge 2\n",
        "             2,  # Index of the sender node for edge 3\n",
        "             2,  # Index of the sender node for edge 4\n",
        "             3]  # Index of the sender node for edge 5\n",
        "receivers_0 \u003d [1,  # Index of the receiver node for edge 0\n",
        "               2,  # Index of the receiver node for edge 1\n",
        "               3,  # Index of the receiver node for edge 2\n",
        "               0,  # Index of the receiver node for edge 3\n",
        "               3,  # Index of the receiver node for edge 4\n",
        "               4]  # Index of the receiver node for edge 5\n",
        "\n",
        "# Global features for graph 1.\n",
        "globals_1 \u003d [1001., 1002., 1003.]\n",
        "\n",
        "# Node features for graph 1.\n",
        "nodes_1 \u003d [[1010., 1020., 1030.],  # Node 0\n",
        "           [1011., 1021., 1031.]]  # Node 1\n",
        "\n",
        "# Edge features for graph 1.\n",
        "edges_1 \u003d [[1100., 1200.],  # Edge 0\n",
        "           [1101., 1201.],  # Edge 1\n",
        "           [1102., 1202.],  # Edge 2\n",
        "           [1103., 1203.]]  # Edge 3\n",
        "\n",
        "# The sender and receiver nodes associated with each edge for graph 1.\n",
        "senders_1 \u003d [0,  # Index of the sender node for edge 0\n",
        "             0,  # Index of the sender node for edge 1\n",
        "             1,  # Index of the sender node for edge 2\n",
        "             1]  # Index of the sender node for edge 3\n",
        "receivers_1 \u003d [0,  # Index of the receiver node for edge 0\n",
        "               1,  # Index of the receiver node for edge 1\n",
        "               0,  # Index of the receiver node for edge 2\n",
        "               0]  # Index of the receiver node for edge 3\n",
        "\n",
        "data_dict_0 \u003d {\n",
        "    \"globals\": globals_0,\n",
        "    \"nodes\": nodes_0,\n",
        "    \"edges\": edges_0,\n",
        "    \"senders\": senders_0,\n",
        "    \"receivers\": receivers_0\n",
        "}\n",
        "\n",
        "data_dict_1 \u003d {\n",
        "    \"globals\": globals_1,\n",
        "    \"nodes\": nodes_1,\n",
        "    \"edges\": edges_1,\n",
        "    \"senders\": senders_1,\n",
        "    \"receivers\": receivers_1\n",
        "}"
      ]
    },
    {
      "cell_type": "markdown",
      "metadata": {
        "colab_type": "text",
        "id": "8sOteecpHj0Z",
        "pycharm": {}
      },
      "source": [
        "## How to represent graphs as a [`graphs.GraphsTuple`](https://github.com/deepmind/graph_nets/blob/master/docs/graph_nets.md#utils_npgraphs_tuple_to_data_dictsgraph)\n",
        "\n",
        "The `utils_np` module contains a functions named [`utils_np.data_dicts_to_graphs_tuple`](https://github.com/deepmind/graph_nets/blob/master/docs/graph_nets.md#utils_npgraphs_tuple_to_data_dictsgraph), which takes a `list` of `dict`s with the keys specified above, and returns a `GraphsTuple` that represents the sequence of graphs.\n",
        "\n",
        "The `data_dicts_to_graphs_tuple` function does three things:\n",
        "1. It concatenates the data from the multiple graphs together along their innermost axes (i.e. the batch dimension). This allows the graph net to process the node and edge attributes by a shared function in parallel.\n",
        "2. It counts up the numbers of nodes and edges per graph, and stores them in the fields \"n_node\" and \"n_edge\", respectively, where their lengths equal the number of graphs. This is used for keeping track of which nodes and edges belong to which graph, so they can be split up later, and so the graph can broadcast a graph\u0027s global attributes across its nodes and edges.\n",
        "3. It adds an integer offset to the sender and receiver indices, which corresponds to the number of nodes in the preceding graphs. This allows the indices to correspond to the nodes and edges of their corresponding graph, after the node and edge attributes have been concatenated.\n",
        "\n",
        "Try running the cell below to put the graph dictionaries into a `GraphsTuple` using `utils_np.data_dicts_to_graphs_tuple`."
      ]
    },
    {
      "cell_type": "code",
      "execution_count": 3,
      "metadata": {
        "colab": {},
        "colab_type": "code",
        "id": "cpUOMJo30oHa",
        "pycharm": {}
      },
      "outputs": [
        {
          "ename": "NameError",
          "evalue": "name \u0027utils_np\u0027 is not defined",
          "output_type": "error",
          "traceback": [
            "\u001b[1;31m---------------------------------------------------------------------------\u001b[0m",
            "\u001b[1;31mNameError\u001b[0m                                 Traceback (most recent call last)",
            "\u001b[1;32m\u003cipython-input-3-d142be54bb97\u003e\u001b[0m in \u001b[0;36m\u003cmodule\u003e\u001b[1;34m\u001b[0m\n\u001b[0;32m      1\u001b[0m \u001b[0mdata_dict_list\u001b[0m \u001b[1;33m\u003d\u001b[0m \u001b[1;33m[\u001b[0m\u001b[0mdata_dict_0\u001b[0m\u001b[1;33m,\u001b[0m \u001b[0mdata_dict_1\u001b[0m\u001b[1;33m]\u001b[0m\u001b[1;33m\u001b[0m\u001b[1;33m\u001b[0m\u001b[0m\n\u001b[1;32m----\u003e 2\u001b[1;33m \u001b[0mgraphs_tuple\u001b[0m \u001b[1;33m\u003d\u001b[0m \u001b[0mutils_np\u001b[0m\u001b[1;33m.\u001b[0m\u001b[0mdata_dicts_to_graphs_tuple\u001b[0m\u001b[1;33m(\u001b[0m\u001b[0mdata_dict_list\u001b[0m\u001b[1;33m)\u001b[0m\u001b[1;33m\u001b[0m\u001b[1;33m\u001b[0m\u001b[0m\n\u001b[0m",
            "\u001b[1;31mNameError\u001b[0m: name \u0027utils_np\u0027 is not defined"
          ]
        }
      ],
      "source": [
        "data_dict_list \u003d [data_dict_0, data_dict_1]\n",
        "graphs_tuple \u003d utils_np.data_dicts_to_graphs_tuple(data_dict_list)"
      ]
    },
    {
      "cell_type": "markdown",
      "metadata": {
        "colab_type": "text",
        "id": "saTlW6FUsQou",
        "pycharm": {}
      },
      "source": [
        "### Visualize the graphs using `networkx`\n",
        "\n",
        "A `GraphsTuple` can be converted into a `list` of `networkx` graph objects for easy visualization.\n",
        "\n",
        "Try running the cell below to visualize the graphs we\u0027ve just defined."
      ]
    },
    {
      "cell_type": "code",
      "execution_count": 4,
      "metadata": {
        "cellView": "both",
        "colab": {},
        "colab_type": "code",
        "id": "B-vAc0An9Dvu",
        "pycharm": {}
      },
      "outputs": [
        {
          "ename": "NameError",
          "evalue": "name \u0027utils_np\u0027 is not defined",
          "output_type": "error",
          "traceback": [
            "\u001b[1;31m---------------------------------------------------------------------------\u001b[0m",
            "\u001b[1;31mNameError\u001b[0m                                 Traceback (most recent call last)",
            "\u001b[1;32m\u003cipython-input-4-0b71b77b325f\u003e\u001b[0m in \u001b[0;36m\u003cmodule\u003e\u001b[1;34m\u001b[0m\n\u001b[1;32m----\u003e 1\u001b[1;33m \u001b[0mgraphs_nx\u001b[0m \u001b[1;33m\u003d\u001b[0m \u001b[0mutils_np\u001b[0m\u001b[1;33m.\u001b[0m\u001b[0mgraphs_tuple_to_networkxs\u001b[0m\u001b[1;33m(\u001b[0m\u001b[0mgraphs_tuple\u001b[0m\u001b[1;33m)\u001b[0m\u001b[1;33m\u001b[0m\u001b[1;33m\u001b[0m\u001b[0m\n\u001b[0m\u001b[0;32m      2\u001b[0m \u001b[0m_\u001b[0m\u001b[1;33m,\u001b[0m \u001b[0maxs\u001b[0m \u001b[1;33m\u003d\u001b[0m \u001b[0mplt\u001b[0m\u001b[1;33m.\u001b[0m\u001b[0msubplots\u001b[0m\u001b[1;33m(\u001b[0m\u001b[0mncols\u001b[0m\u001b[1;33m\u003d\u001b[0m\u001b[1;36m2\u001b[0m\u001b[1;33m,\u001b[0m \u001b[0mfigsize\u001b[0m\u001b[1;33m\u003d\u001b[0m\u001b[1;33m(\u001b[0m\u001b[1;36m6\u001b[0m\u001b[1;33m,\u001b[0m \u001b[1;36m3\u001b[0m\u001b[1;33m)\u001b[0m\u001b[1;33m)\u001b[0m\u001b[1;33m\u001b[0m\u001b[1;33m\u001b[0m\u001b[0m\n\u001b[0;32m      3\u001b[0m \u001b[1;32mfor\u001b[0m \u001b[0miax\u001b[0m\u001b[1;33m,\u001b[0m \u001b[1;33m(\u001b[0m\u001b[0mgraph_nx\u001b[0m\u001b[1;33m,\u001b[0m \u001b[0max\u001b[0m\u001b[1;33m)\u001b[0m \u001b[1;32min\u001b[0m \u001b[0menumerate\u001b[0m\u001b[1;33m(\u001b[0m\u001b[0mzip\u001b[0m\u001b[1;33m(\u001b[0m\u001b[0mgraphs_nx\u001b[0m\u001b[1;33m,\u001b[0m \u001b[0maxs\u001b[0m\u001b[1;33m)\u001b[0m\u001b[1;33m)\u001b[0m\u001b[1;33m:\u001b[0m\u001b[1;33m\u001b[0m\u001b[1;33m\u001b[0m\u001b[0m\n\u001b[0;32m      4\u001b[0m   \u001b[0mnx\u001b[0m\u001b[1;33m.\u001b[0m\u001b[0mdraw\u001b[0m\u001b[1;33m(\u001b[0m\u001b[0mgraph_nx\u001b[0m\u001b[1;33m,\u001b[0m \u001b[0max\u001b[0m\u001b[1;33m\u003d\u001b[0m\u001b[0max\u001b[0m\u001b[1;33m)\u001b[0m\u001b[1;33m\u001b[0m\u001b[1;33m\u001b[0m\u001b[0m\n\u001b[0;32m      5\u001b[0m   \u001b[0max\u001b[0m\u001b[1;33m.\u001b[0m\u001b[0mset_title\u001b[0m\u001b[1;33m(\u001b[0m\u001b[1;34m\"Graph {}\"\u001b[0m\u001b[1;33m.\u001b[0m\u001b[0mformat\u001b[0m\u001b[1;33m(\u001b[0m\u001b[0miax\u001b[0m\u001b[1;33m)\u001b[0m\u001b[1;33m)\u001b[0m\u001b[1;33m\u001b[0m\u001b[1;33m\u001b[0m\u001b[0m\n",
            "\u001b[1;31mNameError\u001b[0m: name \u0027utils_np\u0027 is not defined"
          ]
        }
      ],
      "source": [
        "graphs_nx \u003d utils_np.graphs_tuple_to_networkxs(graphs_tuple)\n",
        "_, axs \u003d plt.subplots(ncols\u003d2, figsize\u003d(6, 3))\n",
        "for iax, (graph_nx, ax) in enumerate(zip(graphs_nx, axs)):\n",
        "  nx.draw(graph_nx, ax\u003dax)\n",
        "  ax.set_title(\"Graph {}\".format(iax))"
      ]
    },
    {
      "cell_type": "markdown",
      "metadata": {
        "colab_type": "text",
        "id": "o-HixEQ7sU6q",
        "pycharm": {}
      },
      "source": [
        "### Print the `GraphsTuple` fields\n",
        "\n",
        "You can also print out the data contained in a `GraphsTuple` by running the cell below."
      ]
    },
    {
      "cell_type": "code",
      "execution_count": 5,
      "metadata": {
        "colab": {},
        "colab_type": "code",
        "id": "akIs5O2b9KOI",
        "pycharm": {}
      },
      "outputs": [
        {
          "ename": "NameError",
          "evalue": "name \u0027graphs_tuple\u0027 is not defined",
          "output_type": "error",
          "traceback": [
            "\u001b[1;31m---------------------------------------------------------------------------\u001b[0m",
            "\u001b[1;31mNameError\u001b[0m                                 Traceback (most recent call last)",
            "\u001b[1;32m\u003cipython-input-5-dfe8af5065ec\u003e\u001b[0m in \u001b[0;36m\u003cmodule\u003e\u001b[1;34m\u001b[0m\n\u001b[0;32m     11\u001b[0m   \u001b[0mprint\u001b[0m\u001b[1;33m(\u001b[0m\u001b[1;34m\"n_edge:\\n{}\"\u001b[0m\u001b[1;33m.\u001b[0m\u001b[0mformat\u001b[0m\u001b[1;33m(\u001b[0m\u001b[0mgraphs_tuple\u001b[0m\u001b[1;33m.\u001b[0m\u001b[0mn_edge\u001b[0m\u001b[1;33m)\u001b[0m\u001b[1;33m)\u001b[0m\u001b[1;33m\u001b[0m\u001b[1;33m\u001b[0m\u001b[0m\n\u001b[0;32m     12\u001b[0m \u001b[1;33m\u001b[0m\u001b[0m\n\u001b[1;32m---\u003e 13\u001b[1;33m \u001b[0mprint_graphs_tuple\u001b[0m\u001b[1;33m(\u001b[0m\u001b[0mgraphs_tuple\u001b[0m\u001b[1;33m)\u001b[0m\u001b[1;33m\u001b[0m\u001b[1;33m\u001b[0m\u001b[0m\n\u001b[0m",
            "\u001b[1;31mNameError\u001b[0m: name \u0027graphs_tuple\u0027 is not defined"
          ]
        }
      ],
      "source": [
        "def print_graphs_tuple(graphs_tuple):\n",
        "  print(\"Shapes of `GraphsTuple`\u0027s fields:\")\n",
        "  print(graphs_tuple.map(lambda x: x if x is None else x.shape, fields\u003dgraphs.ALL_FIELDS))\n",
        "  print(\"\\nData contained in `GraphsTuple`\u0027s fields:\")\n",
        "  print(\"globals:\\n{}\".format(graphs_tuple.globals))\n",
        "  print(\"nodes:\\n{}\".format(graphs_tuple.nodes))\n",
        "  print(\"edges:\\n{}\".format(graphs_tuple.edges))\n",
        "  print(\"senders:\\n{}\".format(graphs_tuple.senders))\n",
        "  print(\"receivers:\\n{}\".format(graphs_tuple.receivers))\n",
        "  print(\"n_node:\\n{}\".format(graphs_tuple.n_node))\n",
        "  print(\"n_edge:\\n{}\".format(graphs_tuple.n_edge))\n",
        "\n",
        "print_graphs_tuple(graphs_tuple)"
      ]
    },
    {
      "cell_type": "markdown",
      "metadata": {
        "colab_type": "text",
        "id": "3TaUiWVh_SX9",
        "pycharm": {}
      },
      "source": [
        "### Back to data dicts\n",
        "It is also possible to retrieve a `list` of  graph `dict`s by using `utils_np.graphs_tuple_to_data_dicts`:"
      ]
    },
    {
      "cell_type": "code",
      "execution_count": 6,
      "metadata": {
        "colab": {},
        "colab_type": "code",
        "id": "PRrsWIDK_Sm5",
        "pycharm": {}
      },
      "outputs": [
        {
          "ename": "NameError",
          "evalue": "name \u0027utils_np\u0027 is not defined",
          "output_type": "error",
          "traceback": [
            "\u001b[1;31m---------------------------------------------------------------------------\u001b[0m",
            "\u001b[1;31mNameError\u001b[0m                                 Traceback (most recent call last)",
            "\u001b[1;32m\u003cipython-input-6-bf13eed9e6f4\u003e\u001b[0m in \u001b[0;36m\u003cmodule\u003e\u001b[1;34m\u001b[0m\n\u001b[1;32m----\u003e 1\u001b[1;33m \u001b[0mrecovered_data_dict_list\u001b[0m \u001b[1;33m\u003d\u001b[0m \u001b[0mutils_np\u001b[0m\u001b[1;33m.\u001b[0m\u001b[0mgraphs_tuple_to_data_dicts\u001b[0m\u001b[1;33m(\u001b[0m\u001b[0mgraphs_tuple\u001b[0m\u001b[1;33m)\u001b[0m\u001b[1;33m\u001b[0m\u001b[1;33m\u001b[0m\u001b[0m\n\u001b[0m",
            "\u001b[1;31mNameError\u001b[0m: name \u0027utils_np\u0027 is not defined"
          ]
        }
      ],
      "source": [
        "recovered_data_dict_list \u003d utils_np.graphs_tuple_to_data_dicts(graphs_tuple)"
      ]
    },
    {
      "cell_type": "markdown",
      "metadata": {
        "colab_type": "text",
        "id": "JtUYYeERq2x2",
        "pycharm": {}
      },
      "source": [
        "## Ways to represent different data sources with a graph\n",
        "\n",
        "As mentioned above, some graph properties are optional, and the following two cells show two instances of how this can be used."
      ]
    },
    {
      "cell_type": "markdown",
      "metadata": {
        "colab_type": "text",
        "id": "nz7RDJL1r8Mh",
        "pycharm": {}
      },
      "source": [
        "### Graph with no features"
      ]
    },
    {
      "cell_type": "code",
      "execution_count": 7,
      "metadata": {
        "colab": {},
        "colab_type": "code",
        "id": "PlBpGYcx0Ux5",
        "pycharm": {}
      },
      "outputs": [
        {
          "ename": "NameError",
          "evalue": "name \u0027utils_np\u0027 is not defined",
          "output_type": "error",
          "traceback": [
            "\u001b[1;31m---------------------------------------------------------------------------\u001b[0m",
            "\u001b[1;31mNameError\u001b[0m                                 Traceback (most recent call last)",
            "\u001b[1;32m\u003cipython-input-7-42464d650d5e\u003e\u001b[0m in \u001b[0;36m\u003cmodule\u003e\u001b[1;34m\u001b[0m\n\u001b[0;32m     11\u001b[0m     \u001b[1;34m\"receivers\"\u001b[0m\u001b[1;33m:\u001b[0m \u001b[0mreceivers\u001b[0m\u001b[1;33m,\u001b[0m\u001b[1;33m\u001b[0m\u001b[1;33m\u001b[0m\u001b[0m\n\u001b[0;32m     12\u001b[0m }\n\u001b[1;32m---\u003e 13\u001b[1;33m \u001b[0mgraphs_tuple\u001b[0m \u001b[1;33m\u003d\u001b[0m \u001b[0mutils_np\u001b[0m\u001b[1;33m.\u001b[0m\u001b[0mdata_dicts_to_graphs_tuple\u001b[0m\u001b[1;33m(\u001b[0m\u001b[1;33m[\u001b[0m\u001b[0mdata_dict\u001b[0m\u001b[1;33m]\u001b[0m\u001b[1;33m)\u001b[0m\u001b[1;33m\u001b[0m\u001b[1;33m\u001b[0m\u001b[0m\n\u001b[0m",
            "\u001b[1;31mNameError\u001b[0m: name \u0027utils_np\u0027 is not defined"
          ]
        }
      ],
      "source": [
        "# Number of nodes\n",
        "n_node \u003d 3\n",
        "\n",
        "# Three edges connecting the nodes in a cycle\n",
        "senders \u003d [0, 1, 2]  # Indices of nodes sending the edges\n",
        "receivers \u003d [1, 2, 0]  # Indices of nodes receiving the edges\n",
        "\n",
        "data_dict \u003d {\n",
        "    \"n_node\": n_node,\n",
        "    \"senders\": senders,\n",
        "    \"receivers\": receivers,\n",
        "}\n",
        "graphs_tuple \u003d utils_np.data_dicts_to_graphs_tuple([data_dict])"
      ]
    },
    {
      "cell_type": "markdown",
      "metadata": {
        "colab_type": "text",
        "id": "efQtkXoFr5su",
        "pycharm": {}
      },
      "source": [
        "### Set (ie. graph without edges)"
      ]
    },
    {
      "cell_type": "code",
      "execution_count": 8,
      "metadata": {
        "colab": {},
        "colab_type": "code",
        "id": "J18qD3fU41OE",
        "pycharm": {}
      },
      "outputs": [
        {
          "ename": "NameError",
          "evalue": "name \u0027utils_np\u0027 is not defined",
          "output_type": "error",
          "traceback": [
            "\u001b[1;31m---------------------------------------------------------------------------\u001b[0m",
            "\u001b[1;31mNameError\u001b[0m                                 Traceback (most recent call last)",
            "\u001b[1;32m\u003cipython-input-8-c823314c8274\u003e\u001b[0m in \u001b[0;36m\u003cmodule\u003e\u001b[1;34m\u001b[0m\n\u001b[0;32m      8\u001b[0m }\n\u001b[0;32m      9\u001b[0m \u001b[1;33m\u001b[0m\u001b[0m\n\u001b[1;32m---\u003e 10\u001b[1;33m \u001b[0mgraphs_tuple\u001b[0m \u001b[1;33m\u003d\u001b[0m \u001b[0mutils_np\u001b[0m\u001b[1;33m.\u001b[0m\u001b[0mdata_dicts_to_graphs_tuple\u001b[0m\u001b[1;33m(\u001b[0m\u001b[1;33m[\u001b[0m\u001b[0mdata_dict\u001b[0m\u001b[1;33m]\u001b[0m\u001b[1;33m)\u001b[0m\u001b[1;33m\u001b[0m\u001b[1;33m\u001b[0m\u001b[0m\n\u001b[0m\u001b[0;32m     11\u001b[0m \u001b[1;33m\u001b[0m\u001b[0m\n\u001b[0;32m     12\u001b[0m \u001b[1;31m# We can visualize the graph using networkx.\u001b[0m\u001b[1;33m\u001b[0m\u001b[1;33m\u001b[0m\u001b[1;33m\u001b[0m\u001b[0m\n",
            "\u001b[1;31mNameError\u001b[0m: name \u0027utils_np\u0027 is not defined"
          ]
        }
      ],
      "source": [
        "# Node features.\n",
        "nodes \u003d [[10.],  # Node 0\n",
        "         [11.],  # Node 1\n",
        "         [12.]]  # Node 2\n",
        "\n",
        "data_dict \u003d {\n",
        "    \"nodes\": nodes,\n",
        "}\n",
        "\n",
        "graphs_tuple \u003d utils_np.data_dicts_to_graphs_tuple([data_dict])\n",
        "\n",
        "# We can visualize the graph using networkx.\n",
        "graphs_nx \u003d utils_np.graphs_tuple_to_networkxs(graphs_tuple)\n",
        "ax \u003d plt.figure(figsize\u003d(3, 3)).gca()\n",
        "nx.draw(graphs_nx[0], ax\u003dax)\n",
        "_ \u003d ax.set_title(\"Graph without edges\")"
      ]
    },
    {
      "cell_type": "markdown",
      "metadata": {
        "colab_type": "text",
        "id": "oPrZFvcRr1yU",
        "pycharm": {}
      },
      "source": [
        "### Creating a `GraphsTuple` from a `networkx` graph\n",
        "\n",
        "[`networkx`](https://networkx.github.io/) is a powerful graph manipulation library in  Python. A `GraphsTuple` to be built from `networkx` graphs as follows:"
      ]
    },
    {
      "cell_type": "code",
      "execution_count": 9,
      "metadata": {
        "colab": {},
        "colab_type": "code",
        "id": "ONEOf83YyTKp",
        "pycharm": {}
      },
      "outputs": [
        {
          "ename": "NameError",
          "evalue": "name \u0027nx\u0027 is not defined",
          "output_type": "error",
          "traceback": [
            "\u001b[1;31m---------------------------------------------------------------------------\u001b[0m",
            "\u001b[1;31mNameError\u001b[0m                                 Traceback (most recent call last)",
            "\u001b[1;32m\u003cipython-input-9-1f532770e724\u003e\u001b[0m in \u001b[0;36m\u003cmodule\u003e\u001b[1;34m\u001b[0m\n\u001b[1;32m----\u003e 1\u001b[1;33m \u001b[0mgraph_nx\u001b[0m \u001b[1;33m\u003d\u001b[0m \u001b[0mnx\u001b[0m\u001b[1;33m.\u001b[0m\u001b[0mOrderedMultiDiGraph\u001b[0m\u001b[1;33m(\u001b[0m\u001b[1;33m)\u001b[0m\u001b[1;33m\u001b[0m\u001b[1;33m\u001b[0m\u001b[0m\n\u001b[0m\u001b[0;32m      2\u001b[0m \u001b[1;33m\u001b[0m\u001b[0m\n\u001b[0;32m      3\u001b[0m \u001b[1;31m# Globals.\u001b[0m\u001b[1;33m\u001b[0m\u001b[1;33m\u001b[0m\u001b[1;33m\u001b[0m\u001b[0m\n\u001b[0;32m      4\u001b[0m \u001b[0mgraph_nx\u001b[0m\u001b[1;33m.\u001b[0m\u001b[0mgraph\u001b[0m\u001b[1;33m[\u001b[0m\u001b[1;34m\"features\"\u001b[0m\u001b[1;33m]\u001b[0m \u001b[1;33m\u003d\u001b[0m \u001b[0mnp\u001b[0m\u001b[1;33m.\u001b[0m\u001b[0marray\u001b[0m\u001b[1;33m(\u001b[0m\u001b[1;33m[\u001b[0m\u001b[1;36m0.6\u001b[0m\u001b[1;33m,\u001b[0m \u001b[1;36m0.7\u001b[0m\u001b[1;33m,\u001b[0m \u001b[1;36m0.8\u001b[0m\u001b[1;33m]\u001b[0m\u001b[1;33m)\u001b[0m\u001b[1;33m\u001b[0m\u001b[1;33m\u001b[0m\u001b[0m\n\u001b[0;32m      5\u001b[0m \u001b[1;33m\u001b[0m\u001b[0m\n",
            "\u001b[1;31mNameError\u001b[0m: name \u0027nx\u0027 is not defined"
          ]
        }
      ],
      "source": [
        "graph_nx \u003d nx.OrderedMultiDiGraph()\n",
        "\n",
        "# Globals.\n",
        "graph_nx.graph[\"features\"] \u003d np.array([0.6, 0.7, 0.8])\n",
        "\n",
        "# Nodes.\n",
        "graph_nx.add_node(0, features\u003dnp.array([0.3, 1.3]))\n",
        "graph_nx.add_node(1, features\u003dnp.array([0.4, 1.4]))\n",
        "graph_nx.add_node(2, features\u003dnp.array([0.5, 1.5]))\n",
        "graph_nx.add_node(3, features\u003dnp.array([0.6, 1.6]))\n",
        "# Edges.\n",
        "graph_nx.add_edge(0, 1, features\u003dnp.array([3.6, 3.7]))\n",
        "graph_nx.add_edge(2, 0, features\u003dnp.array([5.6, 5.7]))\n",
        "graph_nx.add_edge(3, 0, features\u003dnp.array([6.6, 6.7]))\n",
        "\n",
        "ax \u003d plt.figure(figsize\u003d(3, 3)).gca()\n",
        "nx.draw(graph_nx, ax\u003dax)\n",
        "ax.set_title(\"Graph\")\n",
        "\n",
        "graphs_tuple \u003d utils_np.networkxs_to_graphs_tuple([graph_nx])\n",
        "\n",
        "print_graphs_tuple(graphs_tuple)"
      ]
    },
    {
      "cell_type": "markdown",
      "metadata": {
        "colab_type": "text",
        "id": "cSUY6pbYXE1i",
        "pycharm": {}
      },
      "source": [
        "## Working with tensor `GraphsTuple`\u0027s"
      ]
    },
    {
      "cell_type": "code",
      "execution_count": 10,
      "metadata": {
        "cellView": "both",
        "colab": {},
        "colab_type": "code",
        "id": "J7tlhBX1Z8RP",
        "pycharm": {}
      },
      "outputs": [
        {
          "ename": "NameError",
          "evalue": "name \u0027np\u0027 is not defined",
          "output_type": "error",
          "traceback": [
            "\u001b[1;31m---------------------------------------------------------------------------\u001b[0m",
            "\u001b[1;31mNameError\u001b[0m                                 Traceback (most recent call last)",
            "\u001b[1;32m\u003cipython-input-10-a41c3ca2b214\u003e\u001b[0m in \u001b[0;36m\u003cmodule\u003e\u001b[1;34m\u001b[0m\n\u001b[0;32m     14\u001b[0m   }\n\u001b[0;32m     15\u001b[0m \u001b[1;33m\u001b[0m\u001b[0m\n\u001b[1;32m---\u003e 16\u001b[1;33m \u001b[0mgraph_3_nodes_4_edges\u001b[0m \u001b[1;33m\u003d\u001b[0m \u001b[0mget_graph_data_dict\u001b[0m\u001b[1;33m(\u001b[0m\u001b[0mnum_nodes\u001b[0m\u001b[1;33m\u003d\u001b[0m\u001b[1;36m3\u001b[0m\u001b[1;33m,\u001b[0m \u001b[0mnum_edges\u001b[0m\u001b[1;33m\u003d\u001b[0m\u001b[1;36m4\u001b[0m\u001b[1;33m)\u001b[0m\u001b[1;33m\u001b[0m\u001b[1;33m\u001b[0m\u001b[0m\n\u001b[0m\u001b[0;32m     17\u001b[0m \u001b[0mgraph_5_nodes_8_edges\u001b[0m \u001b[1;33m\u003d\u001b[0m \u001b[0mget_graph_data_dict\u001b[0m\u001b[1;33m(\u001b[0m\u001b[0mnum_nodes\u001b[0m\u001b[1;33m\u003d\u001b[0m\u001b[1;36m5\u001b[0m\u001b[1;33m,\u001b[0m \u001b[0mnum_edges\u001b[0m\u001b[1;33m\u003d\u001b[0m\u001b[1;36m8\u001b[0m\u001b[1;33m)\u001b[0m\u001b[1;33m\u001b[0m\u001b[1;33m\u001b[0m\u001b[0m\n\u001b[0;32m     18\u001b[0m \u001b[0mgraph_7_nodes_13_edges\u001b[0m \u001b[1;33m\u003d\u001b[0m \u001b[0mget_graph_data_dict\u001b[0m\u001b[1;33m(\u001b[0m\u001b[0mnum_nodes\u001b[0m\u001b[1;33m\u003d\u001b[0m\u001b[1;36m7\u001b[0m\u001b[1;33m,\u001b[0m \u001b[0mnum_edges\u001b[0m\u001b[1;33m\u003d\u001b[0m\u001b[1;36m13\u001b[0m\u001b[1;33m)\u001b[0m\u001b[1;33m\u001b[0m\u001b[1;33m\u001b[0m\u001b[0m\n",
            "\u001b[1;32m\u003cipython-input-10-a41c3ca2b214\u003e\u001b[0m in \u001b[0;36mget_graph_data_dict\u001b[1;34m(num_nodes, num_edges)\u001b[0m\n\u001b[0;32m      7\u001b[0m \u001b[1;32mdef\u001b[0m \u001b[0mget_graph_data_dict\u001b[0m\u001b[1;33m(\u001b[0m\u001b[0mnum_nodes\u001b[0m\u001b[1;33m,\u001b[0m \u001b[0mnum_edges\u001b[0m\u001b[1;33m)\u001b[0m\u001b[1;33m:\u001b[0m\u001b[1;33m\u001b[0m\u001b[1;33m\u001b[0m\u001b[0m\n\u001b[0;32m      8\u001b[0m   return {\n\u001b[1;32m----\u003e 9\u001b[1;33m       \u001b[1;34m\"globals\"\u001b[0m\u001b[1;33m:\u001b[0m \u001b[0mnp\u001b[0m\u001b[1;33m.\u001b[0m\u001b[0mrandom\u001b[0m\u001b[1;33m.\u001b[0m\u001b[0mrand\u001b[0m\u001b[1;33m(\u001b[0m\u001b[0mGLOBAL_SIZE\u001b[0m\u001b[1;33m)\u001b[0m\u001b[1;33m.\u001b[0m\u001b[0mastype\u001b[0m\u001b[1;33m(\u001b[0m\u001b[0mnp\u001b[0m\u001b[1;33m.\u001b[0m\u001b[0mfloat32\u001b[0m\u001b[1;33m)\u001b[0m\u001b[1;33m,\u001b[0m\u001b[1;33m\u001b[0m\u001b[1;33m\u001b[0m\u001b[0m\n\u001b[0m\u001b[0;32m     10\u001b[0m       \u001b[1;34m\"nodes\"\u001b[0m\u001b[1;33m:\u001b[0m \u001b[0mnp\u001b[0m\u001b[1;33m.\u001b[0m\u001b[0mrandom\u001b[0m\u001b[1;33m.\u001b[0m\u001b[0mrand\u001b[0m\u001b[1;33m(\u001b[0m\u001b[0mnum_nodes\u001b[0m\u001b[1;33m,\u001b[0m \u001b[0mNODE_SIZE\u001b[0m\u001b[1;33m)\u001b[0m\u001b[1;33m.\u001b[0m\u001b[0mastype\u001b[0m\u001b[1;33m(\u001b[0m\u001b[0mnp\u001b[0m\u001b[1;33m.\u001b[0m\u001b[0mfloat32\u001b[0m\u001b[1;33m)\u001b[0m\u001b[1;33m,\u001b[0m\u001b[1;33m\u001b[0m\u001b[1;33m\u001b[0m\u001b[0m\n\u001b[0;32m     11\u001b[0m       \u001b[1;34m\"edges\"\u001b[0m\u001b[1;33m:\u001b[0m \u001b[0mnp\u001b[0m\u001b[1;33m.\u001b[0m\u001b[0mrandom\u001b[0m\u001b[1;33m.\u001b[0m\u001b[0mrand\u001b[0m\u001b[1;33m(\u001b[0m\u001b[0mnum_edges\u001b[0m\u001b[1;33m,\u001b[0m \u001b[0mEDGE_SIZE\u001b[0m\u001b[1;33m)\u001b[0m\u001b[1;33m.\u001b[0m\u001b[0mastype\u001b[0m\u001b[1;33m(\u001b[0m\u001b[0mnp\u001b[0m\u001b[1;33m.\u001b[0m\u001b[0mfloat32\u001b[0m\u001b[1;33m)\u001b[0m\u001b[1;33m,\u001b[0m\u001b[1;33m\u001b[0m\u001b[1;33m\u001b[0m\u001b[0m\n",
            "\u001b[1;31mNameError\u001b[0m: name \u0027np\u0027 is not defined"
          ]
        }
      ],
      "source": [
        "#@title #### (Define functions for generating and plotting graphs)\n",
        "\n",
        "GLOBAL_SIZE \u003d 4\n",
        "NODE_SIZE \u003d 5\n",
        "EDGE_SIZE \u003d 6\n",
        "\n",
        "def get_graph_data_dict(num_nodes, num_edges):\n",
        "  return {\n",
        "      \"globals\": np.random.rand(GLOBAL_SIZE).astype(np.float32),\n",
        "      \"nodes\": np.random.rand(num_nodes, NODE_SIZE).astype(np.float32),\n",
        "      \"edges\": np.random.rand(num_edges, EDGE_SIZE).astype(np.float32),\n",
        "      \"senders\": np.random.randint(num_nodes, size\u003dnum_edges, dtype\u003dnp.int32),\n",
        "      \"receivers\": np.random.randint(num_nodes, size\u003dnum_edges, dtype\u003dnp.int32),\n",
        "  }\n",
        "\n",
        "graph_3_nodes_4_edges \u003d get_graph_data_dict(num_nodes\u003d3, num_edges\u003d4)\n",
        "graph_5_nodes_8_edges \u003d get_graph_data_dict(num_nodes\u003d5, num_edges\u003d8)\n",
        "graph_7_nodes_13_edges \u003d get_graph_data_dict(num_nodes\u003d7, num_edges\u003d13)\n",
        "graph_9_nodes_25_edges \u003d get_graph_data_dict(num_nodes\u003d9, num_edges\u003d25)\n",
        "\n",
        "graph_dicts \u003d [graph_3_nodes_4_edges, graph_5_nodes_8_edges,\n",
        "               graph_7_nodes_13_edges, graph_9_nodes_25_edges]\n",
        "\n",
        "def plot_graphs_tuple_np(graphs_tuple):\n",
        "  networkx_graphs \u003d utils_np.graphs_tuple_to_networkxs(graphs_tuple)\n",
        "  num_graphs \u003d len(networkx_graphs)\n",
        "  _, axes \u003d plt.subplots(1, num_graphs, figsize\u003d(5*num_graphs, 5))\n",
        "  if num_graphs \u003d\u003d 1:\n",
        "    axes \u003d axes,\n",
        "  for graph, ax in zip(networkx_graphs, axes):\n",
        "    plot_graph_networkx(graph, ax)\n",
        "\n",
        "\n",
        "def plot_graph_networkx(graph, ax, pos\u003dNone):\n",
        "  node_labels \u003d {node: \"{:.3g}\".format(data[\"features\"][0])\n",
        "                 for node, data in graph.nodes(data\u003dTrue)\n",
        "                 if data[\"features\"] is not None}\n",
        "  edge_labels \u003d {(sender, receiver): \"{:.3g}\".format(data[\"features\"][0])\n",
        "                 for sender, receiver, data in graph.edges(data\u003dTrue)\n",
        "                 if data[\"features\"] is not None}\n",
        "  global_label \u003d (\"{:.3g}\".format(graph.graph[\"features\"][0])\n",
        "                  if graph.graph[\"features\"] is not None else None)\n",
        "\n",
        "  if pos is None:\n",
        "    pos \u003d nx.spring_layout(graph)\n",
        "  nx.draw_networkx(graph, pos, ax\u003dax, labels\u003dnode_labels)\n",
        "\n",
        "  if edge_labels:\n",
        "    nx.draw_networkx_edge_labels(graph, pos, edge_labels, ax\u003dax)\n",
        "\n",
        "  if global_label:\n",
        "    plt.text(0.05, 0.95, global_label, transform\u003dax.transAxes)\n",
        "\n",
        "  ax.yaxis.set_visible(False)\n",
        "  ax.xaxis.set_visible(False)\n",
        "  return pos\n",
        "\n",
        "\n",
        "def plot_compare_graphs(graphs_tuples, labels):\n",
        "  pos \u003d None\n",
        "  num_graphs \u003d len(graphs_tuples)\n",
        "  _, axes \u003d plt.subplots(1, num_graphs, figsize\u003d(5*num_graphs, 5))\n",
        "  if num_graphs \u003d\u003d 1:\n",
        "    axes \u003d axes,\n",
        "  pos \u003d None\n",
        "  for name, graphs_tuple, ax in zip(labels, graphs_tuples, axes):\n",
        "    graph \u003d utils_np.graphs_tuple_to_networkxs(graphs_tuple)[0]\n",
        "    pos \u003d plot_graph_networkx(graph, ax, pos\u003dpos)\n",
        "    ax.set_title(name)"
      ]
    },
    {
      "cell_type": "markdown",
      "metadata": {
        "colab_type": "text",
        "id": "_kygzbsSXsHJ",
        "pycharm": {}
      },
      "source": [
        "## Creating a constant tensor `GraphsTuple` from data dicts\n",
        "\n",
        "Similar to `utils_np.data_dicts_to_graphs_tuple`,  the `utils_tf` module, which manipulates graphs whose attributes are represented as TensorFlow tensors, contains a function named [`utils_tf.data_dicts_to_graphs_tuple`](https://github.com/deepmind/graph_nets/blob/master/docs/graph_nets.md#utils_tfgraphs_tuple_to_data_dictsgraph), which creates a constant tensor graph from data dicts, containing either numpy arrays of tensors."
      ]
    },
    {
      "cell_type": "code",
      "execution_count": 11,
      "metadata": {
        "colab": {},
        "colab_type": "code",
        "id": "Yf8d8qV2gQV8",
        "pycharm": {}
      },
      "outputs": [
        {
          "ename": "NameError",
          "evalue": "name \u0027tf\u0027 is not defined",
          "output_type": "error",
          "traceback": [
            "\u001b[1;31m---------------------------------------------------------------------------\u001b[0m",
            "\u001b[1;31mNameError\u001b[0m                                 Traceback (most recent call last)",
            "\u001b[1;32m\u003cipython-input-11-fe84b7215546\u003e\u001b[0m in \u001b[0;36m\u003cmodule\u003e\u001b[1;34m\u001b[0m\n\u001b[1;32m----\u003e 1\u001b[1;33m \u001b[0mtf\u001b[0m\u001b[1;33m.\u001b[0m\u001b[0mreset_default_graph\u001b[0m\u001b[1;33m(\u001b[0m\u001b[1;33m)\u001b[0m\u001b[1;33m\u001b[0m\u001b[1;33m\u001b[0m\u001b[0m\n\u001b[0m\u001b[0;32m      2\u001b[0m \u001b[0mgraphs_tuple_tf\u001b[0m \u001b[1;33m\u003d\u001b[0m \u001b[0mutils_tf\u001b[0m\u001b[1;33m.\u001b[0m\u001b[0mdata_dicts_to_graphs_tuple\u001b[0m\u001b[1;33m(\u001b[0m\u001b[0mgraph_dicts\u001b[0m\u001b[1;33m)\u001b[0m\u001b[1;33m\u001b[0m\u001b[1;33m\u001b[0m\u001b[0m\n\u001b[0;32m      3\u001b[0m \u001b[1;33m\u001b[0m\u001b[0m\n\u001b[0;32m      4\u001b[0m \u001b[1;32mwith\u001b[0m \u001b[0mtf\u001b[0m\u001b[1;33m.\u001b[0m\u001b[0mSession\u001b[0m\u001b[1;33m(\u001b[0m\u001b[1;33m)\u001b[0m \u001b[1;32mas\u001b[0m \u001b[0msess\u001b[0m\u001b[1;33m:\u001b[0m\u001b[1;33m\u001b[0m\u001b[1;33m\u001b[0m\u001b[0m\n\u001b[0;32m      5\u001b[0m   \u001b[0mgraphs_tuple_np\u001b[0m \u001b[1;33m\u003d\u001b[0m \u001b[0msess\u001b[0m\u001b[1;33m.\u001b[0m\u001b[0mrun\u001b[0m\u001b[1;33m(\u001b[0m\u001b[0mgraphs_tuple_tf\u001b[0m\u001b[1;33m)\u001b[0m\u001b[1;33m\u001b[0m\u001b[1;33m\u001b[0m\u001b[0m\n",
            "\u001b[1;31mNameError\u001b[0m: name \u0027tf\u0027 is not defined"
          ]
        }
      ],
      "source": [
        "tf.reset_default_graph()\n",
        "graphs_tuple_tf \u003d utils_tf.data_dicts_to_graphs_tuple(graph_dicts)\n",
        "\n",
        "with tf.Session() as sess:\n",
        "  graphs_tuple_np \u003d sess.run(graphs_tuple_tf)\n",
        "\n",
        "plot_graphs_tuple_np(graphs_tuple_np)"
      ]
    },
    {
      "cell_type": "code",
      "execution_count": 12,
      "metadata": {
        "colab": {},
        "colab_type": "code",
        "id": "6ufxDR3vpuG5",
        "pycharm": {}
      },
      "outputs": [
        {
          "ename": "NameError",
          "evalue": "name \u0027tf\u0027 is not defined",
          "output_type": "error",
          "traceback": [
            "\u001b[1;31m---------------------------------------------------------------------------\u001b[0m",
            "\u001b[1;31mNameError\u001b[0m                                 Traceback (most recent call last)",
            "\u001b[1;32m\u003cipython-input-12-829c3197b29a\u003e\u001b[0m in \u001b[0;36m\u003cmodule\u003e\u001b[1;34m\u001b[0m\n\u001b[0;32m      1\u001b[0m \u001b[1;31m# If the GraphsTuple has None\u0027s we need to make use of `utils_tf.make_runnable_in_session`.\u001b[0m\u001b[1;33m\u001b[0m\u001b[1;33m\u001b[0m\u001b[1;33m\u001b[0m\u001b[0m\n\u001b[1;32m----\u003e 2\u001b[1;33m \u001b[0mtf\u001b[0m\u001b[1;33m.\u001b[0m\u001b[0mreset_default_graph\u001b[0m\u001b[1;33m(\u001b[0m\u001b[1;33m)\u001b[0m\u001b[1;33m\u001b[0m\u001b[1;33m\u001b[0m\u001b[0m\n\u001b[0m\u001b[0;32m      3\u001b[0m \u001b[0mgraphs_tuple_tf\u001b[0m \u001b[1;33m\u003d\u001b[0m \u001b[0mutils_tf\u001b[0m\u001b[1;33m.\u001b[0m\u001b[0mdata_dicts_to_graphs_tuple\u001b[0m\u001b[1;33m(\u001b[0m\u001b[0mgraph_dicts\u001b[0m\u001b[1;33m)\u001b[0m\u001b[1;33m\u001b[0m\u001b[1;33m\u001b[0m\u001b[0m\n\u001b[0;32m      4\u001b[0m \u001b[1;33m\u001b[0m\u001b[0m\n\u001b[0;32m      5\u001b[0m \u001b[1;31m# Removing the edges from a graph.\u001b[0m\u001b[1;33m\u001b[0m\u001b[1;33m\u001b[0m\u001b[1;33m\u001b[0m\u001b[0m\n",
            "\u001b[1;31mNameError\u001b[0m: name \u0027tf\u0027 is not defined"
          ]
        }
      ],
      "source": [
        "# If the GraphsTuple has None\u0027s we need to make use of `utils_tf.make_runnable_in_session`.\n",
        "tf.reset_default_graph()\n",
        "graphs_tuple_tf \u003d utils_tf.data_dicts_to_graphs_tuple(graph_dicts)\n",
        "\n",
        "# Removing the edges from a graph.\n",
        "graph_with_nones \u003d graphs_tuple_tf.replace(\n",
        "    edges\u003dNone, senders\u003dNone, receivers\u003dNone, n_edge\u003dgraphs_tuple_tf.n_edge*0)\n",
        "\n",
        "runnable_in_session_graph \u003d utils_tf.make_runnable_in_session(graph_with_nones)\n",
        "with tf.Session() as sess:\n",
        "  graphs_tuple_np \u003d sess.run(runnable_in_session_graph)\n",
        "\n",
        "plot_graphs_tuple_np(graphs_tuple_np)"
      ]
    },
    {
      "cell_type": "markdown",
      "metadata": {
        "colab_type": "text",
        "id": "lQVz4xCbXr_J",
        "pycharm": {}
      },
      "source": [
        "## `GraphsTuple` placeholders\n",
        "\n",
        "In TensorFlow, data is often passed into a session via [placeholder tensors](https://www.tensorflow.org/api_docs/python/tf/placeholder). The cell below shows how to create placeholders for graph data."
      ]
    },
    {
      "cell_type": "code",
      "execution_count": 13,
      "metadata": {
        "colab": {},
        "colab_type": "code",
        "id": "q46yrk1wuAxN",
        "pycharm": {}
      },
      "outputs": [
        {
          "ename": "NameError",
          "evalue": "name \u0027tf\u0027 is not defined",
          "output_type": "error",
          "traceback": [
            "\u001b[1;31m---------------------------------------------------------------------------\u001b[0m",
            "\u001b[1;31mNameError\u001b[0m                                 Traceback (most recent call last)",
            "\u001b[1;32m\u003cipython-input-13-76576f8ef4b2\u003e\u001b[0m in \u001b[0;36m\u003cmodule\u003e\u001b[1;34m\u001b[0m\n\u001b[1;32m----\u003e 1\u001b[1;33m \u001b[0mtf\u001b[0m\u001b[1;33m.\u001b[0m\u001b[0mreset_default_graph\u001b[0m\u001b[1;33m(\u001b[0m\u001b[1;33m)\u001b[0m\u001b[1;33m\u001b[0m\u001b[1;33m\u001b[0m\u001b[0m\n\u001b[0m\u001b[0;32m      2\u001b[0m \u001b[1;33m\u001b[0m\u001b[0m\n\u001b[0;32m      3\u001b[0m \u001b[1;31m# Create a placeholder using the first graph in the list as template.\u001b[0m\u001b[1;33m\u001b[0m\u001b[1;33m\u001b[0m\u001b[1;33m\u001b[0m\u001b[0m\n\u001b[0;32m      4\u001b[0m \u001b[0mgraphs_tuple_ph\u001b[0m \u001b[1;33m\u003d\u001b[0m \u001b[0mutils_tf\u001b[0m\u001b[1;33m.\u001b[0m\u001b[0mplaceholders_from_data_dicts\u001b[0m\u001b[1;33m(\u001b[0m\u001b[0mgraph_dicts\u001b[0m\u001b[1;33m[\u001b[0m\u001b[1;36m0\u001b[0m\u001b[1;33m:\u001b[0m\u001b[1;36m1\u001b[0m\u001b[1;33m]\u001b[0m\u001b[1;33m)\u001b[0m\u001b[1;33m\u001b[0m\u001b[1;33m\u001b[0m\u001b[0m\n\u001b[0;32m      5\u001b[0m \u001b[1;33m\u001b[0m\u001b[0m\n",
            "\u001b[1;31mNameError\u001b[0m: name \u0027tf\u0027 is not defined"
          ]
        }
      ],
      "source": [
        "tf.reset_default_graph()\n",
        "\n",
        "# Create a placeholder using the first graph in the list as template.\n",
        "graphs_tuple_ph \u003d utils_tf.placeholders_from_data_dicts(graph_dicts[0:1])\n",
        "\n",
        "with tf.Session() as sess:\n",
        "  # Feeding a batch of graphs with different sizes, and different\n",
        "  # numbers of nodes and edges through the placeholder.\n",
        "  feed_dict \u003d utils_tf.get_feed_dict(\n",
        "      graphs_tuple_ph, utils_np.data_dicts_to_graphs_tuple(graph_dicts[1:]))\n",
        "\n",
        "  graphs_tuple_np \u003d sess.run(graphs_tuple_ph, feed_dict)\n",
        "\n",
        "plot_graphs_tuple_np(graphs_tuple_np)"
      ]
    },
    {
      "cell_type": "markdown",
      "metadata": {
        "colab_type": "text",
        "id": "UuBFLcpgvgLL",
        "pycharm": {}
      },
      "source": [
        "A similar utility is provided to work with `networkx` graphs: [`utils_np.data_dict_to_networkx`](https://github.com/deepmind/graph_nets/blob/master/docs/graph_nets.md#utils_npdata_dict_to_networkxdata_dict)."
      ]
    },
    {
      "cell_type": "markdown",
      "metadata": {
        "colab_type": "text",
        "id": "acSavUGPXsZI",
        "pycharm": {}
      },
      "source": [
        "## Slicing graphs from within a batch\n",
        "\n",
        "A subset of graphs can be retrieved from a batch represented by `GraphsTuple` as follows."
      ]
    },
    {
      "cell_type": "code",
      "execution_count": 14,
      "metadata": {
        "colab": {},
        "colab_type": "code",
        "id": "63OYmvUxZBWn",
        "pycharm": {}
      },
      "outputs": [
        {
          "ename": "NameError",
          "evalue": "name \u0027tf\u0027 is not defined",
          "output_type": "error",
          "traceback": [
            "\u001b[1;31m---------------------------------------------------------------------------\u001b[0m",
            "\u001b[1;31mNameError\u001b[0m                                 Traceback (most recent call last)",
            "\u001b[1;32m\u003cipython-input-14-875b2ac0d5cb\u003e\u001b[0m in \u001b[0;36m\u003cmodule\u003e\u001b[1;34m\u001b[0m\n\u001b[0;32m      1\u001b[0m \u001b[1;31m# If the GraphsTuple has None\u0027s we need to make use of `utils_tf.make_runnable_in_session`.\u001b[0m\u001b[1;33m\u001b[0m\u001b[1;33m\u001b[0m\u001b[1;33m\u001b[0m\u001b[0m\n\u001b[1;32m----\u003e 2\u001b[1;33m \u001b[0mtf\u001b[0m\u001b[1;33m.\u001b[0m\u001b[0mreset_default_graph\u001b[0m\u001b[1;33m(\u001b[0m\u001b[1;33m)\u001b[0m\u001b[1;33m\u001b[0m\u001b[1;33m\u001b[0m\u001b[0m\n\u001b[0m\u001b[0;32m      3\u001b[0m \u001b[0mgraphs_tuple_tf\u001b[0m \u001b[1;33m\u003d\u001b[0m \u001b[0mutils_tf\u001b[0m\u001b[1;33m.\u001b[0m\u001b[0mdata_dicts_to_graphs_tuple\u001b[0m\u001b[1;33m(\u001b[0m\u001b[0mgraph_dicts\u001b[0m\u001b[1;33m)\u001b[0m\u001b[1;33m\u001b[0m\u001b[1;33m\u001b[0m\u001b[0m\n\u001b[0;32m      4\u001b[0m \u001b[1;33m\u001b[0m\u001b[0m\n\u001b[0;32m      5\u001b[0m \u001b[0mfirst_graph_tf\u001b[0m \u001b[1;33m\u003d\u001b[0m \u001b[0mutils_tf\u001b[0m\u001b[1;33m.\u001b[0m\u001b[0mget_graph\u001b[0m\u001b[1;33m(\u001b[0m\u001b[0mgraphs_tuple_tf\u001b[0m\u001b[1;33m,\u001b[0m \u001b[1;36m0\u001b[0m\u001b[1;33m)\u001b[0m\u001b[1;33m\u001b[0m\u001b[1;33m\u001b[0m\u001b[0m\n",
            "\u001b[1;31mNameError\u001b[0m: name \u0027tf\u0027 is not defined"
          ]
        }
      ],
      "source": [
        "# If the GraphsTuple has None\u0027s we need to make use of `utils_tf.make_runnable_in_session`.\n",
        "tf.reset_default_graph()\n",
        "graphs_tuple_tf \u003d utils_tf.data_dicts_to_graphs_tuple(graph_dicts)\n",
        "\n",
        "first_graph_tf \u003d utils_tf.get_graph(graphs_tuple_tf, 0)\n",
        "three_graphs_tf \u003d utils_tf.get_graph(graphs_tuple_tf, slice(1, 4))\n",
        "\n",
        "with tf.Session() as sess:\n",
        "  first_graph_np \u003d sess.run(first_graph_tf)\n",
        "  three_graphs_np \u003d sess.run(three_graphs_tf)\n",
        "\n",
        "plot_graphs_tuple_np(first_graph_np)\n",
        "plot_graphs_tuple_np(three_graphs_np)"
      ]
    },
    {
      "cell_type": "markdown",
      "metadata": {
        "colab_type": "text",
        "id": "MLD2KEdEYldQ",
        "pycharm": {}
      },
      "source": [
        "## Concatenating multiple `GraphsTuple` instances"
      ]
    },
    {
      "cell_type": "code",
      "execution_count": 15,
      "metadata": {
        "colab": {},
        "colab_type": "code",
        "id": "MrWouGJHxeIO",
        "pycharm": {}
      },
      "outputs": [
        {
          "ename": "NameError",
          "evalue": "name \u0027tf\u0027 is not defined",
          "output_type": "error",
          "traceback": [
            "\u001b[1;31m---------------------------------------------------------------------------\u001b[0m",
            "\u001b[1;31mNameError\u001b[0m                                 Traceback (most recent call last)",
            "\u001b[1;32m\u003cipython-input-15-3c4fbb3d751c\u003e\u001b[0m in \u001b[0;36m\u003cmodule\u003e\u001b[1;34m\u001b[0m\n\u001b[0;32m      1\u001b[0m \u001b[1;31m# Concatenating along the batch dimension\u001b[0m\u001b[1;33m\u001b[0m\u001b[1;33m\u001b[0m\u001b[1;33m\u001b[0m\u001b[0m\n\u001b[1;32m----\u003e 2\u001b[1;33m \u001b[0mtf\u001b[0m\u001b[1;33m.\u001b[0m\u001b[0mreset_default_graph\u001b[0m\u001b[1;33m(\u001b[0m\u001b[1;33m)\u001b[0m\u001b[1;33m\u001b[0m\u001b[1;33m\u001b[0m\u001b[0m\n\u001b[0m\u001b[0;32m      3\u001b[0m \u001b[0mgraphs_tuple_1_tf\u001b[0m \u001b[1;33m\u003d\u001b[0m \u001b[0mutils_tf\u001b[0m\u001b[1;33m.\u001b[0m\u001b[0mdata_dicts_to_graphs_tuple\u001b[0m\u001b[1;33m(\u001b[0m\u001b[0mgraph_dicts\u001b[0m\u001b[1;33m[\u001b[0m\u001b[1;36m0\u001b[0m\u001b[1;33m:\u001b[0m\u001b[1;36m1\u001b[0m\u001b[1;33m]\u001b[0m\u001b[1;33m)\u001b[0m\u001b[1;33m\u001b[0m\u001b[1;33m\u001b[0m\u001b[0m\n\u001b[0;32m      4\u001b[0m \u001b[0mgraphs_tuple_2_tf\u001b[0m \u001b[1;33m\u003d\u001b[0m \u001b[0mutils_tf\u001b[0m\u001b[1;33m.\u001b[0m\u001b[0mdata_dicts_to_graphs_tuple\u001b[0m\u001b[1;33m(\u001b[0m\u001b[0mgraph_dicts\u001b[0m\u001b[1;33m[\u001b[0m\u001b[1;36m1\u001b[0m\u001b[1;33m:\u001b[0m\u001b[1;33m]\u001b[0m\u001b[1;33m)\u001b[0m\u001b[1;33m\u001b[0m\u001b[1;33m\u001b[0m\u001b[0m\n\u001b[0;32m      5\u001b[0m \u001b[1;33m\u001b[0m\u001b[0m\n",
            "\u001b[1;31mNameError\u001b[0m: name \u0027tf\u0027 is not defined"
          ]
        }
      ],
      "source": [
        "# Concatenating along the batch dimension\n",
        "tf.reset_default_graph()\n",
        "graphs_tuple_1_tf \u003d utils_tf.data_dicts_to_graphs_tuple(graph_dicts[0:1])\n",
        "graphs_tuple_2_tf \u003d utils_tf.data_dicts_to_graphs_tuple(graph_dicts[1:])\n",
        "\n",
        "graphs_tuple_tf \u003d utils_tf.concat([graphs_tuple_1_tf, graphs_tuple_2_tf], axis\u003d0)\n",
        "\n",
        "with tf.Session() as sess:\n",
        "  graphs_tuple_np \u003d sess.run(graphs_tuple_tf)\n",
        "\n",
        "plot_graphs_tuple_np(graphs_tuple_np)"
      ]
    },
    {
      "cell_type": "markdown",
      "metadata": {
        "colab_type": "text",
        "id": "btcMDrixx9Bs",
        "pycharm": {}
      },
      "source": [
        "Similarly, we can concatenate along feature dimensions, assuming all of the batches to be concatenates have the same graph structure/connectivity."
      ]
    },
    {
      "cell_type": "markdown",
      "metadata": {
        "colab_type": "text",
        "id": "_KzQhLJJYEQZ",
        "pycharm": {}
      },
      "source": [
        "See `utils_tf` for more methods to work with GraphsTuple\u0027s containing tensors."
      ]
    },
    {
      "cell_type": "markdown",
      "metadata": {
        "colab_type": "text",
        "id": "VUzXQDdRaIKt",
        "pycharm": {}
      },
      "source": [
        "# Graph Net modules\n",
        "\n",
        "So far we\u0027ve covered how to manipulate graph-structured data via the `GraphsTuple` class and the `utils_np` and `utils_tf` utilities. Now we show how to use actual graph networks."
      ]
    },
    {
      "cell_type": "markdown",
      "metadata": {
        "colab_type": "text",
        "id": "0rOU3rjRbK9O",
        "pycharm": {}
      },
      "source": [
        "## Creating a [`modules.GraphNetwork`](https://github.com/deepmind/graph_nets/blob/master/docs/graph_nets.md#class-modulesgraphnetwork)\n",
        "\n",
        "![Graph Network block](https://github.com/deepmind/graph_nets/raw/master/images/graph-network.png)\n",
        "\n",
        "A graph network has up to three learnable sub-functions: edge ($\\phi^e$), node ($\\phi^v$), and global ($\\phi^u$) in the schematic above. See Section 3.2.2, page 12 in [our companion arXiv paper](https://arxiv.org/pdf/1806.01261.pdf) for details.\n",
        "\n",
        "To instantiate a graph network module in the library, these sub-functions are specified via constructor arguments which are `callable`s that return Sonnet modules, such as `snt.Linear` or `snt.nets.MLP`.\n",
        "\n",
        "The reason that a `callable` is provided, instead of the module/method directly, is so the Graph Net object owns the modules and the variables created by them."
      ]
    },
    {
      "cell_type": "code",
      "execution_count": 16,
      "metadata": {
        "colab": {},
        "colab_type": "code",
        "id": "P5_ADeDsyQNZ",
        "pycharm": {}
      },
      "outputs": [
        {
          "ename": "NameError",
          "evalue": "name \u0027tf\u0027 is not defined",
          "output_type": "error",
          "traceback": [
            "\u001b[1;31m---------------------------------------------------------------------------\u001b[0m",
            "\u001b[1;31mNameError\u001b[0m                                 Traceback (most recent call last)",
            "\u001b[1;32m\u003cipython-input-16-c9ee8942d6f8\u003e\u001b[0m in \u001b[0;36m\u003cmodule\u003e\u001b[1;34m\u001b[0m\n\u001b[1;32m----\u003e 1\u001b[1;33m \u001b[0mtf\u001b[0m\u001b[1;33m.\u001b[0m\u001b[0mreset_default_graph\u001b[0m\u001b[1;33m(\u001b[0m\u001b[1;33m)\u001b[0m\u001b[1;33m\u001b[0m\u001b[1;33m\u001b[0m\u001b[0m\n\u001b[0m\u001b[0;32m      2\u001b[0m \u001b[0mOUTPUT_EDGE_SIZE\u001b[0m \u001b[1;33m\u003d\u001b[0m \u001b[1;36m10\u001b[0m\u001b[1;33m\u001b[0m\u001b[1;33m\u001b[0m\u001b[0m\n\u001b[0;32m      3\u001b[0m \u001b[0mOUTPUT_NODE_SIZE\u001b[0m \u001b[1;33m\u003d\u001b[0m \u001b[1;36m11\u001b[0m\u001b[1;33m\u001b[0m\u001b[1;33m\u001b[0m\u001b[0m\n\u001b[0;32m      4\u001b[0m \u001b[0mOUTPUT_GLOBAL_SIZE\u001b[0m \u001b[1;33m\u003d\u001b[0m \u001b[1;36m12\u001b[0m\u001b[1;33m\u001b[0m\u001b[1;33m\u001b[0m\u001b[0m\n\u001b[0;32m      5\u001b[0m graph_network \u003d modules.GraphNetwork(\n",
            "\u001b[1;31mNameError\u001b[0m: name \u0027tf\u0027 is not defined"
          ]
        }
      ],
      "source": [
        "tf.reset_default_graph()\n",
        "OUTPUT_EDGE_SIZE \u003d 10\n",
        "OUTPUT_NODE_SIZE \u003d 11\n",
        "OUTPUT_GLOBAL_SIZE \u003d 12\n",
        "graph_network \u003d modules.GraphNetwork(\n",
        "    edge_model_fn\u003dlambda: snt.Linear(output_size\u003dOUTPUT_EDGE_SIZE),\n",
        "    node_model_fn\u003dlambda: snt.Linear(output_size\u003dOUTPUT_NODE_SIZE),\n",
        "    global_model_fn\u003dlambda: snt.Linear(output_size\u003dOUTPUT_GLOBAL_SIZE))"
      ]
    },
    {
      "cell_type": "markdown",
      "metadata": {
        "colab_type": "text",
        "id": "VsSIrvMEbV1W",
        "pycharm": {}
      },
      "source": [
        "## Feeding a `GraphsTuple` to a Graph Net\n",
        "\n",
        "A `GraphsTuple` can be fed into a graph network, which returns an output graph with the same number of nodes, edges, and edge connectivity, but with updated edge, node and global features. All of the output features are conditioned on the input features according to the graph structure, and are fully differentiable."
      ]
    },
    {
      "cell_type": "code",
      "execution_count": 17,
      "metadata": {
        "colab": {},
        "colab_type": "code",
        "id": "10g2R-aKz2kY",
        "pycharm": {}
      },
      "outputs": [
        {
          "ename": "NameError",
          "evalue": "name \u0027utils_tf\u0027 is not defined",
          "output_type": "error",
          "traceback": [
            "\u001b[1;31m---------------------------------------------------------------------------\u001b[0m",
            "\u001b[1;31mNameError\u001b[0m                                 Traceback (most recent call last)",
            "\u001b[1;32m\u003cipython-input-17-bd60b2dd181a\u003e\u001b[0m in \u001b[0;36m\u003cmodule\u003e\u001b[1;34m\u001b[0m\n\u001b[1;32m----\u003e 1\u001b[1;33m \u001b[0minput_graphs\u001b[0m \u001b[1;33m\u003d\u001b[0m \u001b[0mutils_tf\u001b[0m\u001b[1;33m.\u001b[0m\u001b[0mdata_dicts_to_graphs_tuple\u001b[0m\u001b[1;33m(\u001b[0m\u001b[0mgraph_dicts\u001b[0m\u001b[1;33m)\u001b[0m\u001b[1;33m\u001b[0m\u001b[1;33m\u001b[0m\u001b[0m\n\u001b[0m\u001b[0;32m      2\u001b[0m \u001b[0moutput_graphs\u001b[0m \u001b[1;33m\u003d\u001b[0m \u001b[0mgraph_network\u001b[0m\u001b[1;33m(\u001b[0m\u001b[0minput_graphs\u001b[0m\u001b[1;33m)\u001b[0m\u001b[1;33m\u001b[0m\u001b[1;33m\u001b[0m\u001b[0m\n\u001b[0;32m      3\u001b[0m \u001b[1;33m\u001b[0m\u001b[0m\n\u001b[0;32m      4\u001b[0m \u001b[0mprint\u001b[0m\u001b[1;33m(\u001b[0m\u001b[1;34m\"Output edges size: {}\"\u001b[0m\u001b[1;33m.\u001b[0m\u001b[0mformat\u001b[0m\u001b[1;33m(\u001b[0m\u001b[0moutput_graphs\u001b[0m\u001b[1;33m.\u001b[0m\u001b[0medges\u001b[0m\u001b[1;33m.\u001b[0m\u001b[0mshape\u001b[0m\u001b[1;33m[\u001b[0m\u001b[1;33m-\u001b[0m\u001b[1;36m1\u001b[0m\u001b[1;33m]\u001b[0m\u001b[1;33m)\u001b[0m\u001b[1;33m)\u001b[0m  \u001b[1;31m# Equal to OUTPUT_EDGE_SIZE\u001b[0m\u001b[1;33m\u001b[0m\u001b[1;33m\u001b[0m\u001b[0m\n\u001b[0;32m      5\u001b[0m \u001b[0mprint\u001b[0m\u001b[1;33m(\u001b[0m\u001b[1;34m\"Output nodes size: {}\"\u001b[0m\u001b[1;33m.\u001b[0m\u001b[0mformat\u001b[0m\u001b[1;33m(\u001b[0m\u001b[0moutput_graphs\u001b[0m\u001b[1;33m.\u001b[0m\u001b[0mnodes\u001b[0m\u001b[1;33m.\u001b[0m\u001b[0mshape\u001b[0m\u001b[1;33m[\u001b[0m\u001b[1;33m-\u001b[0m\u001b[1;36m1\u001b[0m\u001b[1;33m]\u001b[0m\u001b[1;33m)\u001b[0m\u001b[1;33m)\u001b[0m  \u001b[1;31m# Equal to OUTPUT_NODE_SIZE\u001b[0m\u001b[1;33m\u001b[0m\u001b[1;33m\u001b[0m\u001b[0m\n",
            "\u001b[1;31mNameError\u001b[0m: name \u0027utils_tf\u0027 is not defined"
          ]
        }
      ],
      "source": [
        "input_graphs \u003d utils_tf.data_dicts_to_graphs_tuple(graph_dicts)\n",
        "output_graphs \u003d graph_network(input_graphs)\n",
        "\n",
        "print(\"Output edges size: {}\".format(output_graphs.edges.shape[-1]))  # Equal to OUTPUT_EDGE_SIZE\n",
        "print(\"Output nodes size: {}\".format(output_graphs.nodes.shape[-1]))  # Equal to OUTPUT_NODE_SIZE\n",
        "print(\"Output globals size: {}\".format(output_graphs.globals.shape[-1]))  # Equal to OUTPUT_GLOBAL_SIZE"
      ]
    },
    {
      "cell_type": "markdown",
      "metadata": {
        "colab_type": "text",
        "id": "HGK5xGBob3lb",
        "pycharm": {}
      },
      "source": [
        "## Connecting a `GraphNetwork` recurrently\n",
        "\n",
        "A Graph Net module can be chained recurrently by matching the output feature sizes to the input feature sizes, and feeding the output back to the input multiple times ([arXiv paper](https://arxiv.org/abs/1806.01261), bottom of Fig. 6a)."
      ]
    },
    {
      "cell_type": "code",
      "execution_count": 18,
      "metadata": {
        "colab": {},
        "colab_type": "code",
        "id": "e54GDFXKB2NO",
        "pycharm": {}
      },
      "outputs": [
        {
          "ename": "NameError",
          "evalue": "name \u0027tf\u0027 is not defined",
          "output_type": "error",
          "traceback": [
            "\u001b[1;31m---------------------------------------------------------------------------\u001b[0m",
            "\u001b[1;31mNameError\u001b[0m                                 Traceback (most recent call last)",
            "\u001b[1;32m\u003cipython-input-18-df2296ff08ca\u003e\u001b[0m in \u001b[0;36m\u003cmodule\u003e\u001b[1;34m\u001b[0m\n\u001b[1;32m----\u003e 1\u001b[1;33m \u001b[0mtf\u001b[0m\u001b[1;33m.\u001b[0m\u001b[0mreset_default_graph\u001b[0m\u001b[1;33m(\u001b[0m\u001b[1;33m)\u001b[0m\u001b[1;33m\u001b[0m\u001b[1;33m\u001b[0m\u001b[0m\n\u001b[0m\u001b[0;32m      2\u001b[0m \u001b[1;33m\u001b[0m\u001b[0m\n\u001b[0;32m      3\u001b[0m \u001b[0minput_graphs\u001b[0m \u001b[1;33m\u003d\u001b[0m \u001b[0mutils_tf\u001b[0m\u001b[1;33m.\u001b[0m\u001b[0mdata_dicts_to_graphs_tuple\u001b[0m\u001b[1;33m(\u001b[0m\u001b[0mgraph_dicts\u001b[0m\u001b[1;33m)\u001b[0m\u001b[1;33m\u001b[0m\u001b[1;33m\u001b[0m\u001b[0m\n\u001b[0;32m      4\u001b[0m \u001b[1;33m\u001b[0m\u001b[0m\n\u001b[0;32m      5\u001b[0m graph_network \u003d modules.GraphNetwork(\n",
            "\u001b[1;31mNameError\u001b[0m: name \u0027tf\u0027 is not defined"
          ]
        }
      ],
      "source": [
        "tf.reset_default_graph()\n",
        "\n",
        "input_graphs \u003d utils_tf.data_dicts_to_graphs_tuple(graph_dicts)\n",
        "\n",
        "graph_network \u003d modules.GraphNetwork(\n",
        "    edge_model_fn\u003dlambda: snt.Linear(output_size\u003dEDGE_SIZE),\n",
        "    node_model_fn\u003dlambda: snt.Linear(output_size\u003dNODE_SIZE),\n",
        "    global_model_fn\u003dlambda: snt.Linear(output_size\u003dGLOBAL_SIZE))\n",
        "\n",
        "num_recurrent_passes \u003d 3\n",
        "previous_graphs \u003d input_graphs\n",
        "for unused_pass in range(num_recurrent_passes):\n",
        "  previous_graphs \u003d graph_network(previous_graphs)\n",
        "output_graphs \u003d previous_graphs"
      ]
    },
    {
      "cell_type": "markdown",
      "metadata": {
        "colab_type": "text",
        "id": "kZzEBReqCimx",
        "pycharm": {}
      },
      "source": [
        "Alternatively, we can process the input graph multiple times with a graph state that gets updated recurrently."
      ]
    },
    {
      "cell_type": "code",
      "execution_count": 19,
      "metadata": {
        "colab": {},
        "colab_type": "code",
        "id": "_rfSo5NJ1UwG",
        "pycharm": {}
      },
      "outputs": [
        {
          "ename": "NameError",
          "evalue": "name \u0027tf\u0027 is not defined",
          "output_type": "error",
          "traceback": [
            "\u001b[1;31m---------------------------------------------------------------------------\u001b[0m",
            "\u001b[1;31mNameError\u001b[0m                                 Traceback (most recent call last)",
            "\u001b[1;32m\u003cipython-input-19-1ddcf13cc2c7\u003e\u001b[0m in \u001b[0;36m\u003cmodule\u003e\u001b[1;34m\u001b[0m\n\u001b[0;32m      6\u001b[0m   \u001b[1;32mreturn\u001b[0m \u001b[0mzeros_graphs\u001b[0m\u001b[1;33m\u001b[0m\u001b[1;33m\u001b[0m\u001b[0m\n\u001b[0;32m      7\u001b[0m \u001b[1;33m\u001b[0m\u001b[0m\n\u001b[1;32m----\u003e 8\u001b[1;33m \u001b[0mtf\u001b[0m\u001b[1;33m.\u001b[0m\u001b[0mreset_default_graph\u001b[0m\u001b[1;33m(\u001b[0m\u001b[1;33m)\u001b[0m\u001b[1;33m\u001b[0m\u001b[1;33m\u001b[0m\u001b[0m\n\u001b[0m\u001b[0;32m      9\u001b[0m \u001b[1;33m\u001b[0m\u001b[0m\n\u001b[0;32m     10\u001b[0m graph_network \u003d modules.GraphNetwork(\n",
            "\u001b[1;31mNameError\u001b[0m: name \u0027tf\u0027 is not defined"
          ]
        }
      ],
      "source": [
        "def zeros_graph(sample_graph, edge_size, node_size, global_size):\n",
        "  zeros_graphs \u003d sample_graph.replace(nodes\u003dNone, edges\u003dNone, globals\u003dNone)\n",
        "  zeros_graphs \u003d utils_tf.set_zero_edge_features(zeros_graphs, edge_size)\n",
        "  zeros_graphs \u003d utils_tf.set_zero_node_features(zeros_graphs, node_size)\n",
        "  zeros_graphs \u003d utils_tf.set_zero_global_features(zeros_graphs, global_size)\n",
        "  return zeros_graphs\n",
        "\n",
        "tf.reset_default_graph()\n",
        "\n",
        "graph_network \u003d modules.GraphNetwork(\n",
        "    edge_model_fn\u003dlambda: snt.Linear(output_size\u003dOUTPUT_EDGE_SIZE),\n",
        "    node_model_fn\u003dlambda: snt.Linear(output_size\u003dOUTPUT_NODE_SIZE),\n",
        "    global_model_fn\u003dlambda: snt.Linear(output_size\u003dOUTPUT_GLOBAL_SIZE))\n",
        "\n",
        "input_graphs \u003d utils_tf.data_dicts_to_graphs_tuple(graph_dicts)\n",
        "initial_state \u003d zeros_graph(\n",
        "    input_graphs, OUTPUT_EDGE_SIZE, OUTPUT_NODE_SIZE, OUTPUT_GLOBAL_SIZE)\n",
        "\n",
        "num_recurrent_passes \u003d 3\n",
        "\n",
        "current_state \u003d initial_state\n",
        "for unused_pass in range(num_recurrent_passes):\n",
        "  input_and_state_graphs \u003d utils_tf.concat(\n",
        "      [input_graphs, current_state], axis\u003d1)\n",
        "  current_state \u003d graph_network(input_and_state_graphs)\n",
        "output_graphs \u003d current_state"
      ]
    },
    {
      "cell_type": "markdown",
      "metadata": {
        "colab_type": "text",
        "id": "PNnLXPXTmZXW",
        "pycharm": {}
      },
      "source": [
        "Similarly, recurrent modules with gating, such as an LSTM or GRU, can be applied on the edges, nodes, and globals of the state and input graphs separately."
      ]
    },
    {
      "cell_type": "markdown",
      "metadata": {
        "colab_type": "text",
        "id": "6m6aOhOtAz3T",
        "pycharm": {}
      },
      "source": [
        "## Other canonical Graph Net modules\n",
        "\n",
        "Other canonical modules discussed in Figure 4 of our [arXiv paper](https://arxiv.org/abs/1806.01261) are provided in `graph_nets.modules`:\n",
        "- [`modules.GraphIndependent`](https://github.com/deepmind/graph_nets/blob/master/docs/graph_nets.md#class-modulesgraphindependent) (updates the global, node, and edge features independently, without message-passing)\n",
        "- [`modules.InteractionNetwork`](https://github.com/deepmind/graph_nets/blob/master/docs/graph_nets.md#class-modulesinteractionnetwork) (an example of a \"Message-passing neural network\")\n",
        "- [`modules.CommNet`](https://github.com/deepmind/graph_nets/blob/master/docs/graph_nets.md#class-modulescommnet) (another example of a \"Message-passing neural network\")\n",
        "- [`modules.SelfAttention`](https://github.com/deepmind/graph_nets/blob/master/docs/graph_nets.md#class-modulesselfattention) (an example of a \"Non-local neural network\")\n",
        "- [`modules.RelationNetwork`](https://github.com/deepmind/graph_nets/blob/master/docs/graph_nets.md#class-modulesrelationnetwork)\n",
        "- [`modules.DeepSets`](https://github.com/deepmind/graph_nets/blob/master/docs/graph_nets.md#class-modulesdeepsets)\n",
        "\n",
        "See documentation for more details and corresponding references."
      ]
    },
    {
      "cell_type": "markdown",
      "metadata": {
        "colab_type": "text",
        "id": "qfhlV2qpah5O",
        "pycharm": {}
      },
      "source": [
        "# Graph Net building blocks\n",
        "\n",
        "Custom graph net modules can be built using a few basic building blocks provided in `graph_nets.blocks`."
      ]
    },
    {
      "cell_type": "markdown",
      "metadata": {
        "colab_type": "text",
        "id": "Ta0YenqKaq7E",
        "pycharm": {}
      },
      "source": [
        "## Broadcast operations\n",
        "\n",
        "Broadcast operations allow to transfer information between different types of elements in the graph:\n",
        "- [`blocks.broadcast_globals_to_nodes`](https://github.com/deepmind/graph_nets/blob/master/docs/graph_nets.md#blocksbroadcast_globals_to_nodesgraph-namebroadcast_globals_to_nodes): Copy/broadcast global features across all nodes.\n",
        "- [`blocks.broadcast_globals_to_edges`](https://github.com/deepmind/graph_nets/blob/master/docs/graph_nets.md#blocksbroadcast_globals_to_edgesgraph-namebroadcast_globals_to_edges): Copy/broadcast global features across all edges.\n",
        "- [`blocks.broadcast_sender_nodes_to_edges`](https://github.com/deepmind/graph_nets/blob/master/docs/graph_nets.md#blocksbroadcast_sender_nodes_to_edgesgraph-namebroadcast_sender_nodes_to_edges): Copy/broadcast node information from each node, across all edges for which that node is a sender.\n",
        "- [`blocks.broadcast_receiver_nodes_to_edges`](https://github.com/deepmind/graph_nets/blob/master/docs/graph_nets.md#blocksbroadcast_receiver_nodes_to_edgesgraph-namebroadcast_receiver_nodes_to_edges): Copy/broadcast node information from each node, across all edges for which that node is a receiver."
      ]
    },
    {
      "cell_type": "code",
      "execution_count": 20,
      "metadata": {
        "colab": {},
        "colab_type": "code",
        "id": "sR6ckNvQbgbO",
        "pycharm": {}
      },
      "outputs": [
        {
          "ename": "NameError",
          "evalue": "name \u0027tf\u0027 is not defined",
          "output_type": "error",
          "traceback": [
            "\u001b[1;31m---------------------------------------------------------------------------\u001b[0m",
            "\u001b[1;31mNameError\u001b[0m                                 Traceback (most recent call last)",
            "\u001b[1;32m\u003cipython-input-20-54fdbab10c70\u003e\u001b[0m in \u001b[0;36m\u003cmodule\u003e\u001b[1;34m\u001b[0m\n\u001b[1;32m----\u003e 1\u001b[1;33m \u001b[0mtf\u001b[0m\u001b[1;33m.\u001b[0m\u001b[0mreset_default_graph\u001b[0m\u001b[1;33m(\u001b[0m\u001b[1;33m)\u001b[0m\u001b[1;33m\u001b[0m\u001b[1;33m\u001b[0m\u001b[0m\n\u001b[0m\u001b[0;32m      2\u001b[0m \u001b[1;33m\u001b[0m\u001b[0m\n\u001b[0;32m      3\u001b[0m \u001b[0mgraphs_tuple\u001b[0m \u001b[1;33m\u003d\u001b[0m \u001b[0mutils_tf\u001b[0m\u001b[1;33m.\u001b[0m\u001b[0mdata_dicts_to_graphs_tuple\u001b[0m\u001b[1;33m(\u001b[0m\u001b[1;33m[\u001b[0m\u001b[0mdata_dict_0\u001b[0m\u001b[1;33m]\u001b[0m\u001b[1;33m)\u001b[0m\u001b[1;33m\u001b[0m\u001b[1;33m\u001b[0m\u001b[0m\n\u001b[0;32m      4\u001b[0m updated_broadcast_globals_to_nodes \u003d graphs_tuple.replace(\n\u001b[0;32m      5\u001b[0m     nodes\u003dblocks.broadcast_globals_to_nodes(graphs_tuple))\n",
            "\u001b[1;31mNameError\u001b[0m: name \u0027tf\u0027 is not defined"
          ]
        }
      ],
      "source": [
        "tf.reset_default_graph()\n",
        "\n",
        "graphs_tuple \u003d utils_tf.data_dicts_to_graphs_tuple([data_dict_0])\n",
        "updated_broadcast_globals_to_nodes \u003d graphs_tuple.replace(\n",
        "    nodes\u003dblocks.broadcast_globals_to_nodes(graphs_tuple))\n",
        "updated_broadcast_globals_to_edges \u003d graphs_tuple.replace(\n",
        "    edges\u003dblocks.broadcast_globals_to_edges(graphs_tuple))\n",
        "updated_broadcast_sender_nodes_to_edges \u003d graphs_tuple.replace(\n",
        "    edges\u003dblocks.broadcast_sender_nodes_to_edges(graphs_tuple))\n",
        "updated_broadcast_receiver_nodes_to_edges \u003d graphs_tuple.replace(\n",
        "    edges\u003dblocks.broadcast_receiver_nodes_to_edges(graphs_tuple))\n",
        "\n",
        "with tf.Session() as sess:\n",
        "  output_graphs \u003d sess.run([\n",
        "      graphs_tuple,\n",
        "      updated_broadcast_globals_to_nodes,\n",
        "      updated_broadcast_globals_to_edges,\n",
        "      updated_broadcast_sender_nodes_to_edges,\n",
        "      updated_broadcast_receiver_nodes_to_edges])\n",
        "\n",
        "plot_compare_graphs(output_graphs, labels\u003d[\n",
        "    \"Input graph\",\n",
        "    \"blocks.broadcast_globals_to_nodes\",\n",
        "    \"blocks.broadcast_globals_to_edges\",\n",
        "    \"blocks.broadcast_sender_nodes_to_edges\",\n",
        "    \"blocks.broadcast_receiver_nodes_to_edges\"])"
      ]
    },
    {
      "cell_type": "markdown",
      "metadata": {
        "colab_type": "text",
        "id": "ykPbYewdLdKM",
        "pycharm": {}
      },
      "source": [
        "We can easily use broadcasters to, for example, set the value of each edge to be the sum of the first feature element of: the input edges, the sender nodes, the receiver nodes, and the global feature.\n"
      ]
    },
    {
      "cell_type": "code",
      "execution_count": 21,
      "metadata": {
        "colab": {},
        "colab_type": "code",
        "id": "w3eWOCl18Q5R",
        "pycharm": {}
      },
      "outputs": [
        {
          "ename": "NameError",
          "evalue": "name \u0027tf\u0027 is not defined",
          "output_type": "error",
          "traceback": [
            "\u001b[1;31m---------------------------------------------------------------------------\u001b[0m",
            "\u001b[1;31mNameError\u001b[0m                                 Traceback (most recent call last)",
            "\u001b[1;32m\u003cipython-input-21-4eabca51fea4\u003e\u001b[0m in \u001b[0;36m\u003cmodule\u003e\u001b[1;34m\u001b[0m\n\u001b[1;32m----\u003e 1\u001b[1;33m \u001b[0mtf\u001b[0m\u001b[1;33m.\u001b[0m\u001b[0mreset_default_graph\u001b[0m\u001b[1;33m(\u001b[0m\u001b[1;33m)\u001b[0m\u001b[1;33m\u001b[0m\u001b[1;33m\u001b[0m\u001b[0m\n\u001b[0m\u001b[0;32m      2\u001b[0m \u001b[0mgraphs_tuple\u001b[0m \u001b[1;33m\u003d\u001b[0m \u001b[0mutils_tf\u001b[0m\u001b[1;33m.\u001b[0m\u001b[0mdata_dicts_to_graphs_tuple\u001b[0m\u001b[1;33m(\u001b[0m\u001b[1;33m[\u001b[0m\u001b[0mdata_dict_0\u001b[0m\u001b[1;33m]\u001b[0m\u001b[1;33m)\u001b[0m\u001b[1;33m\u001b[0m\u001b[1;33m\u001b[0m\u001b[0m\n\u001b[0;32m      3\u001b[0m \u001b[1;33m\u001b[0m\u001b[0m\n\u001b[0;32m      4\u001b[0m updated_graphs_tuple \u003d graphs_tuple.replace(\n\u001b[0;32m      5\u001b[0m     edges\u003d(graphs_tuple.edges[:, :1] +\n",
            "\u001b[1;31mNameError\u001b[0m: name \u0027tf\u0027 is not defined"
          ]
        }
      ],
      "source": [
        "tf.reset_default_graph()\n",
        "graphs_tuple \u003d utils_tf.data_dicts_to_graphs_tuple([data_dict_0])\n",
        "\n",
        "updated_graphs_tuple \u003d graphs_tuple.replace(\n",
        "    edges\u003d(graphs_tuple.edges[:, :1] +\n",
        "           blocks.broadcast_receiver_nodes_to_edges(graphs_tuple)[:, :1] +\n",
        "           blocks.broadcast_sender_nodes_to_edges(graphs_tuple)[:, :1] +\n",
        "           blocks.broadcast_globals_to_edges(graphs_tuple)[:, :1]))\n",
        "\n",
        "with tf.Session() as sess:\n",
        "  output_graphs \u003d sess.run([\n",
        "      graphs_tuple,\n",
        "      updated_graphs_tuple])\n",
        "\n",
        "plot_compare_graphs(output_graphs, labels\u003d[\n",
        "    \"Input graph\",\n",
        "    \"Updated graph\"])"
      ]
    },
    {
      "cell_type": "markdown",
      "metadata": {
        "colab_type": "text",
        "id": "uE8bBiLbaoCX",
        "pycharm": {}
      },
      "source": [
        "## Aggregators\n",
        "\n",
        "Aggregators perform reduce operations between different elements of the graph:\n",
        "\n",
        "- [`blocks.EdgesToGlobalsAggregator`](https://github.com/deepmind/graph_nets/blob/master/docs/graph_nets.md#class-blocksedgestoglobalsaggregator): Aggregates the sets of features for all edges into a single global set of features.\n",
        "- [`blocks.NodesToGlobalsAggregator`](https://github.com/deepmind/graph_nets/blob/master/docs/graph_nets.md#class-blocksnodestoglobalsaggregator): Aggregates the sets of features for all nodes into a single global set of features.\n",
        "- [`blocks.SentEdgesToNodesAggregator`](https://github.com/deepmind/graph_nets/blob/master/docs/graph_nets.md#class-blockssentedgestonodesaggregator): Aggregates the sets of features for all edges sent by each node into a single set of features for that node.\n",
        "- [`blocks.ReceivedEdgesToNodesAggregator`](https://github.com/deepmind/graph_nets/blob/master/docs/graph_nets.md#class-blocksreceivededgestonodesaggregator): Aggregates the sets of features for all edges received by each node into a single set of features for that.\n",
        "\n",
        "Different types of reduce operations are:\n",
        "- [`tf.unsorted_segment_sum`](https://www.tensorflow.org/api_docs/python/tf/unsorted_segment_sum): Elementwise sum. Set to 0 for empty sets.\n",
        "- [`tf.unsorted_segment_mean`](https://www.tensorflow.org/api_docs/python/tf/unsorted_segment_mean): Elementwise mean. Set to 0 for empty sets.\n",
        "- [`tf.unsorted_segment_prod`](https://www.tensorflow.org/api_docs/python/tf/unsorted_segment_prod): Elementwise prod. Set to 1 for empty sets.\n",
        "- [`blocks.unsorted_segment_max_or_zero`](https://github.com/deepmind/graph_nets/blob/master/docs/graph_nets.md#blocksunsorted_segment_max_or_zerovalues-indices-num_groups-nameunsorted_segment_max_or_zero): Elementwise max. Set to 0 for empty sets.\n",
        "- [`blocks.unsorted_segment_min_or_zero`](https://github.com/deepmind/graph_nets/blob/master/docs/graph_nets.md#blocksunsorted_segment_max_or_zerovalues-indices-num_groups-nameunsorted_segment_min_or_zero): Elementwise min. Set to 0 for empty sets.\n"
      ]
    },
    {
      "cell_type": "code",
      "execution_count": 22,
      "metadata": {
        "colab": {},
        "colab_type": "code",
        "id": "qR_3QHNgiMYv",
        "pycharm": {}
      },
      "outputs": [
        {
          "ename": "NameError",
          "evalue": "name \u0027tf\u0027 is not defined",
          "output_type": "error",
          "traceback": [
            "\u001b[1;31m---------------------------------------------------------------------------\u001b[0m",
            "\u001b[1;31mNameError\u001b[0m                                 Traceback (most recent call last)",
            "\u001b[1;32m\u003cipython-input-22-2dbc9816d92c\u003e\u001b[0m in \u001b[0;36m\u003cmodule\u003e\u001b[1;34m\u001b[0m\n\u001b[1;32m----\u003e 1\u001b[1;33m \u001b[0mtf\u001b[0m\u001b[1;33m.\u001b[0m\u001b[0mreset_default_graph\u001b[0m\u001b[1;33m(\u001b[0m\u001b[1;33m)\u001b[0m\u001b[1;33m\u001b[0m\u001b[1;33m\u001b[0m\u001b[0m\n\u001b[0m\u001b[0;32m      2\u001b[0m \u001b[1;33m\u001b[0m\u001b[0m\n\u001b[0;32m      3\u001b[0m \u001b[0mgraphs_tuple\u001b[0m \u001b[1;33m\u003d\u001b[0m \u001b[0mutils_tf\u001b[0m\u001b[1;33m.\u001b[0m\u001b[0mdata_dicts_to_graphs_tuple\u001b[0m\u001b[1;33m(\u001b[0m\u001b[1;33m[\u001b[0m\u001b[0mdata_dict_0\u001b[0m\u001b[1;33m]\u001b[0m\u001b[1;33m)\u001b[0m\u001b[1;33m\u001b[0m\u001b[1;33m\u001b[0m\u001b[0m\n\u001b[0;32m      4\u001b[0m \u001b[1;33m\u001b[0m\u001b[0m\n\u001b[0;32m      5\u001b[0m \u001b[0mreducer\u001b[0m \u001b[1;33m\u003d\u001b[0m \u001b[0mtf\u001b[0m\u001b[1;33m.\u001b[0m\u001b[0munsorted_segment_sum\u001b[0m\u001b[1;33m\u001b[0m\u001b[1;33m\u001b[0m\u001b[0m\n",
            "\u001b[1;31mNameError\u001b[0m: name \u0027tf\u0027 is not defined"
          ]
        }
      ],
      "source": [
        "tf.reset_default_graph()\n",
        "\n",
        "graphs_tuple \u003d utils_tf.data_dicts_to_graphs_tuple([data_dict_0])\n",
        "\n",
        "reducer \u003d tf.unsorted_segment_sum\n",
        "updated_edges_to_globals \u003d graphs_tuple.replace(\n",
        "    globals\u003dblocks.EdgesToGlobalsAggregator(reducer\u003dreducer)(graphs_tuple))\n",
        "updated_nodes_to_globals \u003d graphs_tuple.replace(\n",
        "    globals\u003dblocks.NodesToGlobalsAggregator(reducer\u003dreducer)(graphs_tuple))\n",
        "updated_sent_edges_to_nodes \u003d graphs_tuple.replace(\n",
        "    nodes\u003dblocks.SentEdgesToNodesAggregator(reducer\u003dreducer)(graphs_tuple))\n",
        "updated_received_edges_to_nodes \u003d graphs_tuple.replace(\n",
        "    nodes\u003dblocks.ReceivedEdgesToNodesAggregator(reducer\u003dreducer)(graphs_tuple))\n",
        "\n",
        "with tf.Session() as sess:\n",
        "  output_graphs \u003d sess.run([\n",
        "      graphs_tuple,\n",
        "      updated_edges_to_globals,\n",
        "      updated_nodes_to_globals,\n",
        "      updated_sent_edges_to_nodes,\n",
        "      updated_received_edges_to_nodes])\n",
        "\n",
        "plot_compare_graphs(output_graphs, labels\u003d[\n",
        "    \"Input graph\",\n",
        "    \"blocks.EdgesToGlobalsAggregator\",\n",
        "    \"blocks.NodesToGlobalsAggregator\",\n",
        "    \"blocks.SentEdgesToNodesAggregator\",\n",
        "    \"blocks.ReceivedEdgesToNodesAggregator\"])"
      ]
    },
    {
      "cell_type": "markdown",
      "metadata": {
        "colab_type": "text",
        "id": "lE0e3bMna96z",
        "pycharm": {}
      },
      "source": [
        "## [`blocks.EdgeBlock`](https://github.com/deepmind/graph_nets/blob/master/docs/graph_nets.md#class-blocksedgeblock)\n",
        "\n",
        "An EdgeBlock consists of applying a function to the concatenation of:\n",
        "-  `graphs_tuple.edges`\n",
        "- `blocks.broadcast_sender_nodes_to_edges(graphs_tuple)`\n",
        "- `blocks.broadcast_receiver_nodes_to_edges(graphs_tuple)`\n",
        "- `blocks.broadcast_globals_to_edges(graphs_tuple)`\n",
        "\n",
        "The result is a graph with new edge features conditioned on input edges, nodes and global features according to the graph structure."
      ]
    },
    {
      "cell_type": "code",
      "execution_count": 23,
      "metadata": {
        "colab": {},
        "colab_type": "code",
        "id": "b549fO5bnxNy",
        "pycharm": {}
      },
      "outputs": [
        {
          "ename": "NameError",
          "evalue": "name \u0027tf\u0027 is not defined",
          "output_type": "error",
          "traceback": [
            "\u001b[1;31m---------------------------------------------------------------------------\u001b[0m",
            "\u001b[1;31mNameError\u001b[0m                                 Traceback (most recent call last)",
            "\u001b[1;32m\u003cipython-input-23-bc787a9b183a\u003e\u001b[0m in \u001b[0;36m\u003cmodule\u003e\u001b[1;34m\u001b[0m\n\u001b[1;32m----\u003e 1\u001b[1;33m \u001b[0mtf\u001b[0m\u001b[1;33m.\u001b[0m\u001b[0mreset_default_graph\u001b[0m\u001b[1;33m(\u001b[0m\u001b[1;33m)\u001b[0m\u001b[1;33m\u001b[0m\u001b[1;33m\u001b[0m\u001b[0m\n\u001b[0m\u001b[0;32m      2\u001b[0m edge_block \u003d blocks.EdgeBlock(\n\u001b[0;32m      3\u001b[0m     edge_model_fn\u003dlambda: snt.Linear(output_size\u003d10))\n\u001b[0;32m      4\u001b[0m \u001b[1;33m\u001b[0m\u001b[0m\n\u001b[0;32m      5\u001b[0m \u001b[0minput_graphs\u001b[0m \u001b[1;33m\u003d\u001b[0m \u001b[0mutils_tf\u001b[0m\u001b[1;33m.\u001b[0m\u001b[0mdata_dicts_to_graphs_tuple\u001b[0m\u001b[1;33m(\u001b[0m\u001b[0mgraph_dicts\u001b[0m\u001b[1;33m)\u001b[0m\u001b[1;33m\u001b[0m\u001b[1;33m\u001b[0m\u001b[0m\n",
            "\u001b[1;31mNameError\u001b[0m: name \u0027tf\u0027 is not defined"
          ]
        }
      ],
      "source": [
        "tf.reset_default_graph()\n",
        "edge_block \u003d blocks.EdgeBlock(\n",
        "    edge_model_fn\u003dlambda: snt.Linear(output_size\u003d10))\n",
        "\n",
        "input_graphs \u003d utils_tf.data_dicts_to_graphs_tuple(graph_dicts)\n",
        "output_graphs \u003d edge_block(input_graphs)\n",
        "\n",
        "print((\"Output edges size: {}\".format(output_graphs.edges.shape[-1])))"
      ]
    },
    {
      "cell_type": "markdown",
      "metadata": {
        "colab_type": "text",
        "id": "FsqdEWjLa0kF",
        "pycharm": {}
      },
      "source": [
        "## [`blocks.NodeBlock`](https://github.com/deepmind/graph_nets/blob/master/docs/graph_nets.md#class-blocksnodeblock)\n",
        "\n",
        "An NodeBlock consists of applying a function to the concatenation of:\n",
        "-  `graphs_tuple.nodes`\n",
        "- `blocks.ReceivedEdgesToNodesAggregator(\u003creducer-function\u003e)(graphs_tuple)`\n",
        "- `blocks.broadcast_globals_to_nodes(graphs_tuple)`\n",
        "\n",
        "The result is a graph with new node features conditioned on input edges, nodes and global features according to the graph structure."
      ]
    },
    {
      "cell_type": "code",
      "execution_count": 24,
      "metadata": {
        "colab": {},
        "colab_type": "code",
        "id": "LvsrYPqgpZ5x",
        "pycharm": {}
      },
      "outputs": [
        {
          "ename": "NameError",
          "evalue": "name \u0027tf\u0027 is not defined",
          "output_type": "error",
          "traceback": [
            "\u001b[1;31m---------------------------------------------------------------------------\u001b[0m",
            "\u001b[1;31mNameError\u001b[0m                                 Traceback (most recent call last)",
            "\u001b[1;32m\u003cipython-input-24-d8a8dfb8df9e\u003e\u001b[0m in \u001b[0;36m\u003cmodule\u003e\u001b[1;34m\u001b[0m\n\u001b[1;32m----\u003e 1\u001b[1;33m \u001b[0mtf\u001b[0m\u001b[1;33m.\u001b[0m\u001b[0mreset_default_graph\u001b[0m\u001b[1;33m(\u001b[0m\u001b[1;33m)\u001b[0m\u001b[1;33m\u001b[0m\u001b[1;33m\u001b[0m\u001b[0m\n\u001b[0m\u001b[0;32m      2\u001b[0m node_block \u003d blocks.NodeBlock(\n\u001b[0;32m      3\u001b[0m     node_model_fn\u003dlambda: snt.Linear(output_size\u003d15))\n\u001b[0;32m      4\u001b[0m \u001b[1;33m\u001b[0m\u001b[0m\n\u001b[0;32m      5\u001b[0m \u001b[0minput_graphs\u001b[0m \u001b[1;33m\u003d\u001b[0m \u001b[0mutils_tf\u001b[0m\u001b[1;33m.\u001b[0m\u001b[0mdata_dicts_to_graphs_tuple\u001b[0m\u001b[1;33m(\u001b[0m\u001b[0mgraph_dicts\u001b[0m\u001b[1;33m)\u001b[0m\u001b[1;33m\u001b[0m\u001b[1;33m\u001b[0m\u001b[0m\n",
            "\u001b[1;31mNameError\u001b[0m: name \u0027tf\u0027 is not defined"
          ]
        }
      ],
      "source": [
        "tf.reset_default_graph()\n",
        "node_block \u003d blocks.NodeBlock(\n",
        "    node_model_fn\u003dlambda: snt.Linear(output_size\u003d15))\n",
        "\n",
        "input_graphs \u003d utils_tf.data_dicts_to_graphs_tuple(graph_dicts)\n",
        "output_graphs \u003d node_block(input_graphs)\n",
        "\n",
        "print((\"Output nodes size: {}\".format(output_graphs.nodes.shape[-1])))"
      ]
    },
    {
      "cell_type": "markdown",
      "metadata": {
        "colab_type": "text",
        "id": "JlNdE_rbbBOj",
        "pycharm": {}
      },
      "source": [
        "## [`blocks.GlobalBlock`](https://github.com/deepmind/graph_nets/blob/master/docs/graph_nets.md#class-blocksglobalblock)\n",
        "\n",
        "An GlobalBlock consists of applying a function to the concatenation of:\n",
        "\n",
        "- `graphs_tuple.globals`\n",
        "- `blocks.EdgesToGlobalsAggregator(\u003creducer-function\u003e)(graphs_tuple)`\n",
        "- `blocks.NodesToGlobalsAggregator(\u003creducer-function\u003e)(graphs_tuple)`\n",
        "\n",
        "The result is a graph with new globals features conditioned on input edges, nodes and global features."
      ]
    },
    {
      "cell_type": "code",
      "execution_count": 25,
      "metadata": {
        "colab": {},
        "colab_type": "code",
        "id": "sVuZ4EUzph1a",
        "pycharm": {}
      },
      "outputs": [
        {
          "ename": "NameError",
          "evalue": "name \u0027tf\u0027 is not defined",
          "output_type": "error",
          "traceback": [
            "\u001b[1;31m---------------------------------------------------------------------------\u001b[0m",
            "\u001b[1;31mNameError\u001b[0m                                 Traceback (most recent call last)",
            "\u001b[1;32m\u003cipython-input-25-8c94de4e11ae\u003e\u001b[0m in \u001b[0;36m\u003cmodule\u003e\u001b[1;34m\u001b[0m\n\u001b[1;32m----\u003e 1\u001b[1;33m \u001b[0mtf\u001b[0m\u001b[1;33m.\u001b[0m\u001b[0mreset_default_graph\u001b[0m\u001b[1;33m(\u001b[0m\u001b[1;33m)\u001b[0m\u001b[1;33m\u001b[0m\u001b[1;33m\u001b[0m\u001b[0m\n\u001b[0m\u001b[0;32m      2\u001b[0m global_block \u003d blocks.GlobalBlock(\n\u001b[0;32m      3\u001b[0m     global_model_fn\u003dlambda: snt.Linear(output_size\u003d20))\n\u001b[0;32m      4\u001b[0m \u001b[1;33m\u001b[0m\u001b[0m\n\u001b[0;32m      5\u001b[0m \u001b[0minput_graphs\u001b[0m \u001b[1;33m\u003d\u001b[0m \u001b[0mutils_tf\u001b[0m\u001b[1;33m.\u001b[0m\u001b[0mdata_dicts_to_graphs_tuple\u001b[0m\u001b[1;33m(\u001b[0m\u001b[0mgraph_dicts\u001b[0m\u001b[1;33m)\u001b[0m\u001b[1;33m\u001b[0m\u001b[1;33m\u001b[0m\u001b[0m\n",
            "\u001b[1;31mNameError\u001b[0m: name \u0027tf\u0027 is not defined"
          ]
        }
      ],
      "source": [
        "tf.reset_default_graph()\n",
        "global_block \u003d blocks.GlobalBlock(\n",
        "    global_model_fn\u003dlambda: snt.Linear(output_size\u003d20))\n",
        "\n",
        "input_graphs \u003d utils_tf.data_dicts_to_graphs_tuple(graph_dicts)\n",
        "output_graphs \u003d global_block(input_graphs)\n",
        "\n",
        "print((\"Output globals size: {}\".format(output_graphs.globals.shape[-1])))"
      ]
    },
    {
      "cell_type": "markdown",
      "metadata": {
        "colab_type": "text",
        "id": "ZC_Y6dEZqNCx",
        "pycharm": {}
      },
      "source": [
        "## Block compositionality\n",
        "\n",
        "A `modules.GraphNetwork` is composed internally of a `modules.EdgeBlock`,  a `modules.NodeBlock`, and a `modules.GlobalBlock`, connected serially. This allows every field in the output to be conditioned by any field in the input."
      ]
    },
    {
      "cell_type": "code",
      "execution_count": 26,
      "metadata": {
        "colab": {},
        "colab_type": "code",
        "id": "eN4Nz9bspqaQ",
        "pycharm": {}
      },
      "outputs": [
        {
          "ename": "NameError",
          "evalue": "name \u0027tf\u0027 is not defined",
          "output_type": "error",
          "traceback": [
            "\u001b[1;31m---------------------------------------------------------------------------\u001b[0m",
            "\u001b[1;31mNameError\u001b[0m                                 Traceback (most recent call last)",
            "\u001b[1;32m\u003cipython-input-26-b42ca5c29bb0\u003e\u001b[0m in \u001b[0;36m\u003cmodule\u003e\u001b[1;34m\u001b[0m\n\u001b[1;32m----\u003e 1\u001b[1;33m \u001b[0mtf\u001b[0m\u001b[1;33m.\u001b[0m\u001b[0mreset_default_graph\u001b[0m\u001b[1;33m(\u001b[0m\u001b[1;33m)\u001b[0m\u001b[1;33m\u001b[0m\u001b[1;33m\u001b[0m\u001b[0m\n\u001b[0m\u001b[0;32m      2\u001b[0m graph_network \u003d modules.GraphNetwork(\n\u001b[0;32m      3\u001b[0m     \u001b[0medge_model_fn\u001b[0m\u001b[1;33m\u003d\u001b[0m\u001b[1;32mlambda\u001b[0m\u001b[1;33m:\u001b[0m \u001b[0msnt\u001b[0m\u001b[1;33m.\u001b[0m\u001b[0mLinear\u001b[0m\u001b[1;33m(\u001b[0m\u001b[0moutput_size\u001b[0m\u001b[1;33m\u003d\u001b[0m\u001b[1;36m10\u001b[0m\u001b[1;33m)\u001b[0m\u001b[1;33m,\u001b[0m\u001b[1;33m\u001b[0m\u001b[1;33m\u001b[0m\u001b[0m\n\u001b[0;32m      4\u001b[0m     \u001b[0mnode_model_fn\u001b[0m\u001b[1;33m\u003d\u001b[0m\u001b[1;32mlambda\u001b[0m\u001b[1;33m:\u001b[0m \u001b[0msnt\u001b[0m\u001b[1;33m.\u001b[0m\u001b[0mLinear\u001b[0m\u001b[1;33m(\u001b[0m\u001b[0moutput_size\u001b[0m\u001b[1;33m\u003d\u001b[0m\u001b[1;36m15\u001b[0m\u001b[1;33m)\u001b[0m\u001b[1;33m,\u001b[0m\u001b[1;33m\u001b[0m\u001b[1;33m\u001b[0m\u001b[0m\n\u001b[0;32m      5\u001b[0m     global_model_fn\u003dlambda: snt.Linear(output_size\u003d20))\n",
            "\u001b[1;31mNameError\u001b[0m: name \u0027tf\u0027 is not defined"
          ]
        }
      ],
      "source": [
        "tf.reset_default_graph()\n",
        "graph_network \u003d modules.GraphNetwork(\n",
        "    edge_model_fn\u003dlambda: snt.Linear(output_size\u003d10),\n",
        "    node_model_fn\u003dlambda: snt.Linear(output_size\u003d15),\n",
        "    global_model_fn\u003dlambda: snt.Linear(output_size\u003d20))\n",
        "\n",
        "input_graphs \u003d utils_tf.data_dicts_to_graphs_tuple(graph_dicts)\n",
        "output_graphs \u003d graph_network(input_graphs)\n",
        "\n",
        "for var in graph_network.variables:\n",
        "  print(var)"
      ]
    },
    {
      "cell_type": "markdown",
      "metadata": {
        "colab_type": "text",
        "id": "vGKTIwF6qtfR",
        "pycharm": {}
      },
      "source": [
        "Most of the existing neural networks operating on graphs can be built upon this set of building blocks using their different configuration options. See `graph_nets.modules` for some examples."
      ]
    },
    {
      "cell_type": "code",
      "execution_count": null,
      "metadata": {
        "pycharm": {}
      },
      "outputs": [],
      "source": []
    },
    {
      "cell_type": "code",
      "execution_count": null,
      "metadata": {
        "pycharm": {}
      },
      "outputs": [],
      "source": []
    },
    {
      "cell_type": "code",
      "execution_count": null,
      "metadata": {
        "pycharm": {}
      },
      "outputs": [],
      "source": []
    }
  ],
  "metadata": {
    "colab": {
      "collapsed_sections": [],
      "last_runtime": {
        "build_target": "//learning/deepmind/dm_python:dm_notebook",
        "kind": "private"
      },
      "name": "graph_nets_basics.ipynb",
      "provenance": [
        {
          "file_id": "1XtBVNZWTXsU3Zht_oZXqjOjgSJ30GM_8",
          "timestamp": 1540298976426
        }
      ],
      "toc_visible": true,
      "version": "0.3.2"
    },
    "kernelspec": {
      "display_name": "Python 3",
      "language": "python",
      "name": "python3"
    },
    "language_info": {
      "codemirror_mode": {
        "name": "ipython",
        "version": 3
      },
      "file_extension": ".py",
      "mimetype": "text/x-python",
      "name": "python",
      "nbconvert_exporter": "python",
      "pygments_lexer": "ipython3",
      "version": "3.7.1"
    }
  },
  "nbformat": 4,
  "nbformat_minor": 1
}